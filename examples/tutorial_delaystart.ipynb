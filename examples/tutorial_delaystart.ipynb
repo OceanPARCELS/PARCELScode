{
 "cells": [
  {
   "cell_type": "markdown",
   "metadata": {
    "deletable": true,
    "editable": true
   },
   "source": [
    "## Tutorial on how to 'delay' the start of particle advection"
   ]
  },
  {
   "cell_type": "markdown",
   "metadata": {
    "deletable": true,
    "editable": true
   },
   "source": [
    "In many applications, it is needed to 'delay' the start of particle advection. For example because particles need to be released at different times throughout an experiment.\n",
    "\n",
    "The way to achieve this in Parcels is by using a combination of `pset.execute()` and `pset.add()` calls inside a `for`-loop.\n",
    "\n",
    "This tutorial will show how this can be done. We start with importing the relevant modules."
   ]
  },
  {
   "cell_type": "code",
   "execution_count": 1,
   "metadata": {
    "collapsed": true,
    "deletable": true,
    "editable": true
   },
   "outputs": [],
   "source": [
    "from parcels import FieldSet, ParticleSet, JITParticle\n",
    "from parcels import AdvectionRK4\n",
    "import numpy as np\n",
    "from datetime import timedelta as delta\n",
    "from scripts import *"
   ]
  },
  {
   "cell_type": "markdown",
   "metadata": {
    "deletable": true,
    "editable": true
   },
   "source": [
    "Now import a `FieldSet` (from the Peninsula example, in this case)"
   ]
  },
  {
   "cell_type": "code",
   "execution_count": 2,
   "metadata": {
    "collapsed": false,
    "deletable": true,
    "editable": true
   },
   "outputs": [],
   "source": [
    "fieldset = FieldSet.from_nemo('Peninsula_data/peninsula', allow_time_extrapolation = True)"
   ]
  },
  {
   "cell_type": "markdown",
   "metadata": {
    "deletable": true,
    "editable": true
   },
   "source": [
    "Define an empty `ParticleSet`"
   ]
  },
  {
   "cell_type": "code",
   "execution_count": 3,
   "metadata": {
    "collapsed": false,
    "deletable": true,
    "editable": true
   },
   "outputs": [],
   "source": [
    "pset = ParticleSet(fieldset=fieldset, lon=[], lat=[], pclass=JITParticle)"
   ]
  },
  {
   "cell_type": "markdown",
   "metadata": {
    "deletable": true,
    "editable": true
   },
   "source": [
    "And now also define some other variables"
   ]
  },
  {
   "cell_type": "code",
   "execution_count": 4,
   "metadata": {
    "collapsed": true,
    "deletable": true,
    "editable": true
   },
   "outputs": [],
   "source": [
    "npart = 10  # number of particles to be released\n",
    "delaytime = delta(hours=1)  # time between each particle release\n",
    "endtime = delta(hours=24)  # total time of the experiment"
   ]
  },
  {
   "cell_type": "markdown",
   "metadata": {
    "deletable": true,
    "editable": true
   },
   "source": [
    "We use the same start locations as in `examples/example_peninsula.py`"
   ]
  },
  {
   "cell_type": "code",
   "execution_count": 5,
   "metadata": {
    "collapsed": true,
    "deletable": true,
    "editable": true
   },
   "outputs": [],
   "source": [
    "x = 3. * (1. / 1.852 / 60)  # 3 km offset from boundary\n",
    "y = (fieldset.U.lat[0] + x, fieldset.U.lat[-1] - x)  # latitude range, including offsets\n",
    "lat = np.linspace(y[0], y[1], npart, dtype=np.float32)"
   ]
  },
  {
   "cell_type": "markdown",
   "metadata": {
    "deletable": true,
    "editable": true
   },
   "source": [
    "Now we define an output file. Note that, since not each particle will have the same number of timesteps outputted (because some will be released later than others), we need to run with `type=\"indexed\"`. See also H3.5 at http://cfconventions.org/Data/cf-conventions/cf-conventions-1.7/build/aphs03.html"
   ]
  },
  {
   "cell_type": "code",
   "execution_count": 6,
   "metadata": {
    "collapsed": true,
    "deletable": true,
    "editable": true
   },
   "outputs": [],
   "source": [
    "output_file = pset.ParticleFile(name=\"DelayParticle\", type=\"indexed\")"
   ]
  },
  {
   "cell_type": "markdown",
   "metadata": {
    "deletable": true,
    "editable": true
   },
   "source": [
    "Now we run the combination of `pset.add()` and `pset.execute()` calls inside a `for`-loop."
   ]
  },
  {
   "cell_type": "code",
   "execution_count": 7,
   "metadata": {
    "collapsed": false,
    "deletable": true,
    "editable": true
   },
   "outputs": [
    {
     "name": "stdout",
     "output_type": "stream",
     "text": [
      "Compiled JITParticleAdvectionRK4 ==> /var/folders/r2/8593q8z93kd7t4j9kbb_f7p00000gn/T/parcels-501/8d4583bd4e9b01d643c0fddfd29f1080.so\n"
     ]
    }
   ],
   "source": [
    "for t in range(npart):\n",
    "    pset.add(JITParticle(lon=x, lat=lat[t], fieldset=fieldset))\n",
    "    pset.execute(AdvectionRK4,\n",
    "                 runtime=delaytime,  # note we execute only for 1 hour\n",
    "                 dt=delta(minutes=5),\n",
    "                 interval=delaytime,\n",
    "                 starttime=delaytime*t,  # note starttime is an hour later for each execute\n",
    "                 output_file=output_file)"
   ]
  },
  {
   "cell_type": "markdown",
   "metadata": {
    "deletable": true,
    "editable": true
   },
   "source": [
    "And then we run the particles for the rest of the time until `endtime`"
   ]
  },
  {
   "cell_type": "code",
   "execution_count": 8,
   "metadata": {
    "collapsed": false,
    "deletable": true,
    "editable": true
   },
   "outputs": [],
   "source": [
    "pset.execute(AdvectionRK4, runtime=endtime-npart*delaytime,\n",
    "             starttime=delaytime*npart, dt=delta(minutes=5), interval=delta(hours=1),\n",
    "             output_file=output_file)"
   ]
  },
  {
   "cell_type": "markdown",
   "metadata": {
    "deletable": true,
    "editable": true
   },
   "source": [
    "And then finally, we can show a movie of the particles. Note that one particle appears every frame for the first ten frames."
   ]
  },
  {
   "cell_type": "code",
   "execution_count": 9,
   "metadata": {
    "collapsed": false,
    "deletable": true,
    "editable": true
   },
   "outputs": [
    {
     "data": {
      "text/html": [
       "<video width=\"600.0\" height=\"400.0\" controls autoplay loop>\n",
       "  <source type=\"video/mp4\" src=\"data:video/mp4;base64,AAAAHGZ0eXBNNFYgAAACAGlzb21pc28yYXZjMQAAAAhmcmVlAABPgm1kYXQAAAKgBgX//5zcRem9\n",
       "5tlIt5Ys2CDZI+7veDI2NCAtIGNvcmUgMTQ4IC0gSC4yNjQvTVBFRy00IEFWQyBjb2RlYyAtIENv\n",
       "cHlsZWZ0IDIwMDMtMjAxNiAtIGh0dHA6Ly93d3cudmlkZW9sYW4ub3JnL3gyNjQuaHRtbCAtIG9w\n",
       "dGlvbnM6IGNhYmFjPTEgcmVmPTMgZGVibG9jaz0xOjA6MCBhbmFseXNlPTB4MzoweDExMyBtZT1o\n",
       "ZXggc3VibWU9NyBwc3k9MSBwc3lfcmQ9MS4wMDowLjAwIG1peGVkX3JlZj0xIG1lX3JhbmdlPTE2\n",
       "IGNocm9tYV9tZT0xIHRyZWxsaXM9MSA4eDhkY3Q9MSBjcW09MCBkZWFkem9uZT0yMSwxMSBmYXN0\n",
       "X3Bza2lwPTEgY2hyb21hX3FwX29mZnNldD0tMiB0aHJlYWRzPTYgbG9va2FoZWFkX3RocmVhZHM9\n",
       "MSBzbGljZWRfdGhyZWFkcz0wIG5yPTAgZGVjaW1hdGU9MSBpbnRlcmxhY2VkPTAgYmx1cmF5X2Nv\n",
       "bXBhdD0wIGNvbnN0cmFpbmVkX2ludHJhPTAgYmZyYW1lcz0zIGJfcHlyYW1pZD0yIGJfYWRhcHQ9\n",
       "MSBiX2JpYXM9MCBkaXJlY3Q9MSB3ZWlnaHRiPTEgb3Blbl9nb3A9MCB3ZWlnaHRwPTIga2V5aW50\n",
       "PTI1MCBrZXlpbnRfbWluPTEwIHNjZW5lY3V0PTQwIGludHJhX3JlZnJlc2g9MCByY19sb29rYWhl\n",
       "YWQ9NDAgcmM9Y3JmIG1idHJlZT0xIGNyZj0yMy4wIHFjb21wPTAuNjAgcXBtaW49MCBxcG1heD02\n",
       "OSBxcHN0ZXA9NCBpcF9yYXRpbz0xLjQwIGFxPTE6MS4wMACAAAAQlmWIhAAR//73iB8yy2n5Otdy\n",
       "EeetLq0fUO5GcV6kvf4gAAADAAADAAIceCvyHWMDfpugAAA2Vdvb6Q9PEAcJZhMXMhlw8km36a7x\n",
       "ujaFcQ/jK+BeZIKGZEgZMelqxmByCeRLXNGxcrWMjB5GLZkiXu2edSJCdMGmJzIvbJhljNSaHUBh\n",
       "xjqUWa/TMT19E5ieSdUfYjAy8Y0ayKTqBavrh/LKyPPdseITfECwApCJXZObihZbI2JgDI6cX3zn\n",
       "AEChByiAJ1EoVX/W8QRNGNd+3RDRTv31+ZlELh6mkT+1OPLLs5Xt2nqioVdUpA33rf22sh+UPLfV\n",
       "bl0pd/hL72iZ+kDo6GGsFP3St/tcH6BO8HN2/UyZHf9TbjucLlCL15qfLIakrFHonU4g6TlLjhge\n",
       "/qkNbnyj2ANWeNt/2n39/f6iIgkSXOXTeT9qTEogaQrEm3cPOooQt4zI/OdoCP29dj7GWQJWmPuy\n",
       "ZUh01j4kakfJBqXuav178XwYDOFMvdx/c8f4vMwsNTn+T06euSICba0ihmbGrsBCUgJs+UfWjvxU\n",
       "P0WvhPNIdx6KdGc28erIRu0YnsGbWlTx5QllOVyGIQU9YdJzDa3w8wJ7Ld2zsc3+s4M+L/qlzjGw\n",
       "QAYR0lDGi9EXm8dVqg/XZFPY7oBCVccJo0ySguHQFab/KttoBQ86ZxLWIY2SOjM04C7LNRXLIntD\n",
       "ZKkvPz07zeOGXR1KGP9tgUSZYl1nRnze3nW2HCVD9SDI2pvx2g3+MBDSp7lsn+CCdZSILcS6y86p\n",
       "g7P/HzRrHxQc8/NyJnraVQSNIABMoqcS6ik1yERQudeRJcMOAAw9t9XG5NDQwRDkVmlN5+6tMYAr\n",
       "RP6J9020YPMAzrDAH8umS5HwQXUWNFcdjSkcDcCp28pELdtNcN0GsSZkQk83vRd8epRau/08rq7W\n",
       "0KMyl8ItxR7btOqX/67ShgvTyzQz3XlE0ZEq9hMI5NQewlBHwgiE6k1s58kuSEpE1RV6+z8cNGeK\n",
       "5gHvN36C7Z4qpHcUm1oL0RHi7LLtD3J0bIIotw8Gm4xzOKN2PPt4w6aXffL3C9dzJP4Xtl4h/PEW\n",
       "IFv7ZnSFmMSRdKTCwjCzwv7FqsKCdZt+HSiZisfnW1kGazmFR71RrGGEypJ8j/0jWR7wabbEFAZK\n",
       "wnnrTcD0JXSwf2hoLajZVK9/nNVIgfp+KkTTWhklBxcjMBBTVHlcXlQIqNgDjB8N913ofHqkA/35\n",
       "4mAQQaw1FwTRvNDF54IoNoGrAOXmEQKnJuAMXo+2V3nwIS044gfB2lG6byyxnN2RQEGmJUccoM5N\n",
       "KrBKRmzi6oySpyatOynzXtfFWgAo+gbPpR09sUS7ft9wnghAw0sRddi0AlUabSUlauGJroql+5qD\n",
       "vpgp3gbmcx7WyBVRivOlB4cTIOOH1ZK7QNP3n1INdwKNiHCGYYdJKqqZd9qaIrDsyHbAAAFopHhI\n",
       "EPHWN07JfyyyXpTU3ybco8mHNu++HKxlynu0TrSNQ3PNsS/jOHe216fH7QKUtOrsz/z4O3UlX3sR\n",
       "sdlueYKo7sVNMM6KmLD7rqtFqreeJlafp8GxxU6OY1juU/aDtJUpsXeZR8p/T18lijr+9SQ82ts6\n",
       "nNcvCz4FeDu0Dszl7SDZXdy6whYO2rJHHIGHT1D3jefhcF/RrOXLRfZ1gZsY2+su7pzbuKi+KjXv\n",
       "ulmR0oeAAl1CbyXCLxz5UA4xNEtJsk1GsIa3YDlyTezKeEpvXUQBfyqQA0FLZM+nLNlstPx84Zvz\n",
       "bq0Tk419KJWdGXNHEumS+ggcLnzgq0JWfSV/vKbNelX+6GW1718UQ88zcOQ++le/r1H2NhoBQRYy\n",
       "vu0UccPetfVqkHwaFc01jxw0XL0L54H5vvKzJ07paHETCZxrzYHkN9uvDm2JN4cpRCz9DOUIaJ+3\n",
       "hX4Ju5XDmj1yJonbvOTPCLcJ5XnG1L6Adaesj/YlWda/5Eo2wDQDLSx/0ZcAt0n5yiGHIJ7fPsn7\n",
       "joqKOkC0R3Vxq3HXUweH6OADuTXcZ8NlCAYhnEoXqamEj9UPefIh2khCl1lrL2nEySmIlJjdz9S3\n",
       "Y2DInnETSaXFUBQpwvf+bLWB8FH4F6bsHeHHBGTvQ0Kz4ptzRbZqgGaLCrvsZTCLFWN9MIFOBKCE\n",
       "OP3WmCgS6RxYV1Ec8RQBVDGX0+O3tfcUVj/gDXdIL3tG1MMw3SocaKH10A0DHXM9i7CZbYfHssao\n",
       "K2qe41juY4wF81Ty2o6iY8/W1H/+wcJpDnKPR8e85HuWcnVmH8j3kzy03Nb0bZRcHHfoziX76/Px\n",
       "d+T0Qs7tRcgYCALR8S1srR39sPDcLd8rKH4nCJUcXgUCdv2tWkwI5nxPZ103btHALz6IS8TqgQJh\n",
       "D9bVhJsfImBFTpYa3n77/LnMbxKbA1aOCMBxtuVIzcJfCbn7NlYAhfJISiEsFdW9NK/eOZpE231T\n",
       "p/KQQ8+Vjo9xcfMQE7uhSyX2zjQ/zMqOvvu5lpCFNeAjLiy3+EBu+zvtkAG4VUqI1tA3iiaMQsdF\n",
       "qy6QfgQr26p9UQjM1LFtY9qRQ/2rC5LzcsLndItTGrhL3l6g+L7NgqMbgDfg3bNf/2Dpot16E/bx\n",
       "cz7BHk+YzkmD+t+Bvz4O/noIK88Ce9TvsmbucdHEzF1OXbb5BleY6JUP2jwu/1TLh9aFUtrBnKuZ\n",
       "jTlkqcSsQEzE1/YsCrngiV3Lwj3NiHGqqDpXa6QmDM3RtS9u+OJMDxQNyy70fsVg09MOymFiXVgU\n",
       "vXPYIchqBvBSdksM7kaHZycDiq4H2QqEsKZ5P1Qo5/b//oxMnsbreiIFM7XgR7IYaellf1u06dHm\n",
       "rsYIMWDXLTZ6i1RjXDceAiXE2b7wocXU0raapqGfamELervvZYKpH9zNkWIOf4IjVn3448lqNNR4\n",
       "7HpNJHFySeKiigW1kdL5S8hlIAXGRiQHUHY1lk0NmzgEtuDjpeYZ5rj7RhBhkfQOV38mXZpPoPl/\n",
       "jMORn0r6LWBvJIqirajqJjz9bUf+7XUm835Y4bai/VVEuoQ5rIzLYBZ5CvoousyZGksHv81Mg20G\n",
       "245GGZ/OZ+ptDWqDrzHFNondBJ6WHI5bRNpbjGaVwktP1XD95oVfchagNHI1Elbs3RlPF6Ub3yk+\n",
       "gJJR/RMr7sFB0KXJXkPqUtLP9mLKHCJVErZreEc0uaFf7rPqWBxnzRxhmiizryOO2UZTQ8Bp3N7G\n",
       "VfUu4pGlkwS3QvJvuBJ6aTviuDc1vPLxnO/154ygGfjRazU0BStcKyFwta3vn2yPpwACrOFmXD6p\n",
       "tnxFhZqNRmoVI2XYSBhJYNGMi8z8gLlbwF5IFNEo0+UsHYB7gzj8I7nf29B+x+LP1tpbAtOAoz+I\n",
       "0NU08bLRre2yBeghvPJtPTyjYugx0oKwDaVqCycgX3HLhc6U7vLvzXZnPKmMIGz4fa9G0W4Nt9mA\n",
       "sKBM71/fXDP+PBMciZTWI3OUAHNurGPO0ACEq2yKYShmIMEhlHBij8AEhDjrTkNWArtxnuP+dCQP\n",
       "zU6DJMJDNMwAAEPzGK5VfXMnI5otBpW8fyKthgR2klI17u0Ji1kxZfSQCBpSPHRnTj8mJghZvsO3\n",
       "oiapz+HM4DQhjlAHYwzcpgjSqVsReCjKTL8Hgeo9nQCWZCkE5IEQjErrF9JOj5zZaYWG5IYwAieK\n",
       "xIS/993GGbR0AhqxQsYlLPVF7+0rv6RfEpDMhxqMmVccUa3XQLuXqiM4WILqK0jgA/GnXcBnM3z/\n",
       "z+2z6Y1CqkPGR+4mAw+wW73CJ6Utv9uR3ON5l2MmnUHUGBsjTiZE7Gte3v+zHN2GHaFRJ7KTFnkv\n",
       "gaz4ub1Fstr7zRoaRy8G4ubu4gO4x1nYvd8xu2xH9/In1Zt6kPOvHuffjpt6jDEIfvoxOy0PZjmb\n",
       "aZbqHxBXx5k3QEkEe2t/rkt6nK2J8+11RxGgnDicz6mjL46niKYlP7N08U9qE3l/lpQ4Y1YvkJl2\n",
       "1IGpjdBRTDvbE0PvdrwefbYZ9Q69r0iazkBnoYExw2DFOwvygafNGrFBGHFpmm1Y1U4zUJWR6oTb\n",
       "p04jGfVZMlZp/df9wGWfgbIRKr6loaTdbMaPXZ1GPQU9MoiJlpe0fe1iUFhAW9zwKuC8vsEmnTgb\n",
       "UzXfmwQI/MqFdrm8ZWqQOcrt0LP5gR9alK7j3AC1fZDaHSoljraDpJR7AqIq5r0S+aA90DVObQxw\n",
       "8/lEB0Vm/JYipq4+pnnIhiWAajOMydXU7ctErZbLK5zGfravXIM5X/v2Q/qhBy3vVthH5XBa0VkX\n",
       "bu5a1D/ECEdl5k9UGOQ0ylar77XEvz1TU1EIVtUwjyZf6TmsZ2Hw5BCQ5fY6FeCWDgnM+8M51h5Z\n",
       "PBHRULxdetu77+w2SNXBCS23rUhXOZrm3rhWsKABzpXGzl0OCcJW5c8ljg8HnFnGHGSE9dGUQrmk\n",
       "L1P/bx+Y1blO49U56TwFi5Fnc3Z805nyjWm4sYkpQMncjycvISkpLQmf+dwjMqUDSLrjGIY6OlhH\n",
       "V8yImi/9Tg+8P/ul4+OcjG28pnQmPehbphHAWptOuXiNWIiTKKADIEVATyK2gideNOBQSL5vXaZx\n",
       "P76K3+rmGBkvBEE5g/23lkhBW8wLOQhsNyhegTVSDfotUUT2FOs7cULk5Fyqq7AXpjSZiI07LuZW\n",
       "tJ4p6mG4FVqHZT6Fm1WNCRT/ZKIaSPiyuvuLhxgBlTOhMb2eTYfjjiRlq1LIb+aAM8oNwenibZEn\n",
       "TRnqn05u1QlYrorincN9Y0RWe1rzlFyZHU3Ew7UJKlT+Yz25gwfyxQ/NyEc5aso4W5TqRCmwIerA\n",
       "2ketPIrIzpXyfuM4mhTsnHAb2D5wA701k16MvVh2Z3IKNzVnFMXfznUZNquiX1TUHgstLOrP5Qy8\n",
       "leustsx+NPMvoKK9MiCKv3tLOSILTjy0kK2VVhv867WNzIfF408R+OZZyMUftepZS14pnuNboBTF\n",
       "6pB3dkSj8mVO8npfxFDPv6uyjwDYsONX84ajWHmWyyoi0sywH6jCmpyhtZaziXtmYN115ZgI6UVc\n",
       "wyzlwIh1mxfsY7Jgy2FbdDTSnQlfnh2eCkruSEcyozg/xEeoLyHX7ll7/6+fsKbg3oqLnvYOWkmW\n",
       "N2pjZphqzGXLe951RgTSmCxx8hENPZm8gro9x6AmJohEmeYL+18rpNYxkSnrjYLLju+wqUusvrz2\n",
       "BOCg9vQbXCW3KzkAmChYdyRNzQOGH6bL/FjLXFYLA8l6QD9bVC8JSJQdS/KYM/GtUOG0sYP4Zd1U\n",
       "CELMdR6vEX/Gf0BZpYFvNFTmBDSrv/Jq4BU8DOiwKjDO5FwIl1Tf9X60yKSnILu/7fgVp4O7j87F\n",
       "7eVtPWOuuvAw1Rq2cS5ZsZ2v1Fz6aFDotW/9EMLuP9QghjycM8vqpSjvEfCw/MHEw1twzbbIXYur\n",
       "bw+wMOrlD/dFNk1r1T5M6gIB2YW4XtBi7hC92VSaOLyVRJdELiN++d3b27s0L4QVh8iDFL8Ix06v\n",
       "loVDig8UpLCcrStKH4fd9LFQpM2FJKK/lnKfU3SnIDen+tT+b+CJKtY+NAueLdW7GBjW2ibOMvSL\n",
       "mgKNDFQDH/qEkOeLw4FcHx8UaPFgsvkQRyiHoa1bVwjf9QzmfXF+87eD0qPplksMR5A8zMz95bWi\n",
       "fYut+52kkAAACKkAAALDQZokbEEP/qpVAB82YQAEyxt4AYZOVQFZQTfmn06gVChSZFsZo/2TsXFX\n",
       "AkyAaTt1dbnceDfHaqvr0x1lJ6daXV0zipOB7H+ZFD2bCN9RQZo4jUFfMf1HtVohhWna/RIhHLnL\n",
       "e0PwV5EAWjpMtmE7cgmWrFMM0VzKuh7XYR5HNK4hkDtgQgz3x15fh8SEr/U2jm2ggHsNVkMUkmMX\n",
       "MeGST+cWzrufSUd2/9CYFNQ2V+a83QMwkZ3vBDHw/6oXmjASdnryEuKTKClRUmGKmKnIxgGKHYaK\n",
       "1tWoZD6gz0zeb1EXDyCdhimYnfYor62EawCWJTa5fFfF6omLYWMiwycL0VAdOV4l1CA2fypvEB60\n",
       "1xoWMLkFZyGHe/TO8CqQipnQD9dDjDRj4EfdGuZLFwiPvUYt5jB1C5EFAZTY4CuNRUe6yxnmOhlZ\n",
       "FXl3hUAnHozQIt0o5zgi3dv+fJKziJ4GlZHk6qEvH1OCmDm52zZd0a7mB2QKWNscX+lxPt63lonM\n",
       "5Mm7XmFMYlqBH2+ZBM7xGvYDpm5pWrhwxeF/tdz9YYFNiDJUxHgdwKOpd4vZtRkOFiyG20Y1i7dR\n",
       "28Vwpu0n/k+dQR9Ct+uStOSaaLPr25NB+KNjDdtjM5KmlPisKnnBTZaFVGVVOP8QRpOuP2h0pNES\n",
       "DZHjDQz8G4i4tgEWU+14KdRv4TaDqVq0rNjJY+AfJDphMOUwZFtJFSdrsLcw2Fqqud22cdIqdPvj\n",
       "EEI+qBgwM2jQYsEO5HDGkg/TgvkYBmdmyoKgpvxaxLgTRDoRKd4r1rN3emWIbJRT69A4O9N1R/Y/\n",
       "AeDoqt0Saou7e4QVhsn9sTOi72Fn8giq1qBsUUoyJcZ1+IVDsWuSP+eWIO7ypF2cXgzqtyZRhqDH\n",
       "cvRtOkLoNGPgWUUg7pINDUEWpew4lKqbbSlGGaf1iZi2FgARr+AAAAFNQZ5CeId/AAAsOMFXGJHF\n",
       "qV1+zN2i49ObnFHW2+T5aqvuP7JgxBNAAaN8JXpTAvEZMBei5ZAM06RPY/Az//nERan5oWt574L2\n",
       "D1e5iD8UlZ8hES0R4nQdRLWvr8m5To79utL8ID7QQQG1e1XB68B2knIBof8xU2WWYnQRRiNH2BCs\n",
       "EdsZWQU1EiqhN0zjJWtfrAuaAb/w0I1s+OviHn2eACVGWDjKZHSq2ZG9g39bz5Bp2g0himeWQKcP\n",
       "0JC0ecwODD7hWH5dotu8+SG3iiDSRkjwjjKsKPyaU+c7PDMGpScSfxSBj+rhw63ciotkHnBxZ0Z3\n",
       "6u5D+ryoRlZ2T/cUynOU9AaTuNx+HxleUA8MnOSr9oJPhewfDsTxGQLiDfcpFoTziU2ovjz99L/B\n",
       "/coRZLcb9yKKnEhvirr2aKHYAVFVbJn5FbPOgmOlLfehAAAAlQGeYXRDfwAMkKlDntsZ7rBh3fYZ\n",
       "fraCYa586yaalVwPsl+Al4AOcuFmVNyHJ230RlIU+RRMqy1P6dtjyicqVveo+7Bj9UjgMGU50buZ\n",
       "lDh1K6jCh/17YgwSFM9G6e2RTFv3E1CEYGQzfSJP43UCrZs5cJzhCHOvXrekgolA8BYUKhIBKJHZ\n",
       "J0F18Mwg1rRBvlVIbdNkAAABpQGeY2pDfwAAPiUPyx5nO9uAmMdFlF1SAB2lyX0jTsc7eDDvAM3B\n",
       "OO9B5F56G74fM6nWW4ROhBiQc8YZqbt7ixyx2hUeG+Z2os28jjrmgJGJl+oVUYmfxxfFnvJ39wpZ\n",
       "JNFxOD4mzW0ldMh6NrfBGjnkUEMZITy7uAt3n59/zDjxfqDA2+fAK6i/ZqZ5UH3y+bewNwZLLstd\n",
       "2fTnZkpbJpUuS1ZqJLstclnXB6EtGdiMkZirFhEPJg7Ma2go2ArSKjBJvS6EZuBKP/HnN5XIvtnZ\n",
       "8X5rV6UwKjx/2zpkD/DvesReC9EvrcbkJGveeXwgeKv/QxXzgTZHsopfFGNHH8KNc8GbX4BuMmZr\n",
       "fy0fPlK7499ypD7B7fZWpUvagaPz011ikV4ir44s2+cbnHCc5x2CsD35l/i2CYStrh22I1HQaL7+\n",
       "jwYiW8h89nPb0B0IQp73VCzF+rIU9U8ek8V4xG/dAofufY1V6rcApNjh9AcfArqAEQ5lzJP2fyn4\n",
       "9lVaO6jdUF8ykVCdd4DPlZusP3FYswQKan3j8M8GPhYzA+Bd0ZQ0PYEAAAPlQZpnSahBaJlMCH//\n",
       "/qmWAADunY3ACFPjYo3o2fYr2m8avH8l3uDH2K+Pn5CWUH0iEUGNIPJplVa++qwnoZYyKth2IiCq\n",
       "7eQs+OxbWitPhDudPu+ruWx0ELD5ymVya5a7EAVTgXifndlAlx/41kq0C0XRY7SEZlFp3IjgATCR\n",
       "dx29QGTuHPQmrLAOnRwY8tu9oiic79Cefss9oARM43RZaPLB2+MjG9RFpdWjK2V5IhuvL6NBpef1\n",
       "XBuNgmmnNjZEHEHjDZohMi5rhTdbF62Uu+Z+LepjOf0Kc4jJEFRXs+uTNfRfvzz437jW7QFT7Nb+\n",
       "3VuX7Rd8wweXt/28Kv3vIKs+mrGOZoRIrUbPtzSITXLUfvksTPH9RMCouK5v3cn9HUVqOXrSyuWR\n",
       "GhgU21St5RAS4cfGiaKImMWd3mgbpNRjcAMqhQ7npkqyRCAe+c/s/t1y3bhPBaENhLqFMiF1CqZr\n",
       "sKUHrBIT7M6mlNskq7QAVA+UMcOGUdurhwt85YfkWxWkusb0IoQqHP7ElRjsU1O7sIGBzZS2oO7f\n",
       "IqfteufY0EDt4xZ6iW1M6DNjibc9HOqya3PJ/wB3CRqCEehr94npCjPoArShIKOxasombeQ+bUjM\n",
       "CMhxwV5VxtQE+q1VOluDo0CMDwk2+YlwTrtN8gvxDxd1tgXT0daBsqtqpcqKl9oOzttNKjrW8Lq/\n",
       "kfdTRdQiCUzkT1OE1o6vAqwuuBu6sSrJwqwBeghLZejSAwG8JJ50gs/GMv7AwN6V5LtpUU/ZS4cs\n",
       "WCZaFIKEpxT/O+HpFv8nf0tzQ36dYsttQaTW1Mq//ldBZfTa/uPywNhiQ5DuvvBZqa+XpGQIaQUk\n",
       "c91H+lAIU/VW7AFDqpv6EegH1DSCDGg+uuDxmqzl1A4q7l9+LHzwMTVz5BncNfZ08w/vQp82BzJM\n",
       "2x5coGigwFBNH76zkzLLUrOyn+kwufx5gWoABGCGgPuWHN8q/XM2DXZbkXbpxfJz++zWLl7XG2SS\n",
       "AcG8yFuGjG44TusQh7rEa54yAx+uKHr2K/M4CAOg6jU+RmziMAHOWBGt8F+YFeW+VRiX/prNMfcy\n",
       "DzvFjohZN34OxilKPngJjIPZPFj+SPvK363ifmpcZ42zmiFXVZqpBaiXkeR/ILCCIR7s1Dm63ICi\n",
       "So9zKF79wurpuPAbfZmz9yid0Yd8JbRD+qmmMS5jJgDZpvW5K38OX873LVPoC0YLs3dJW0us9zq9\n",
       "P1WFPLY51v+3xx+3p82vWp9Xqh5WHtsdiZ9p6FkPj2iVTnN1qGKKNhxWsgqrzktO1X5aa8jgo/3h\n",
       "GdC3dLRS3jKfiJO7KCCLgQAAAkVBnoVFESw3/wAArLz5IbYUSvX7UAsasMviWgA5yx7zbDKwBNf8\n",
       "Kp/8eybNDDGLVhpYDcxZZx4wwwShJiO6hX+42aZEelMpeODEiUCJUDk3yNqXbifjPivz99taDPTV\n",
       "ssHh/Kp8JWwbXUB6YK2w5j+wvLPSwF77RH7JsDZ3wMYZZLF8r8TpuMgIWMJFOTODFpfyeVk/rp1G\n",
       "9wW27ECHdnTFb3MmOuFlrPHhCGlcE5+Ak0ogGjQBhii125kXsf4oJsI7yIrM/lVGBa8DCJthzYV5\n",
       "yXAhodAqTaQdJyvOse+7K/o7UIpdHLn58cVxWct9XVSSCVJ+KHbVPWZTe73pwtCgeZTaCU5eF3vW\n",
       "6FlqWcx8zDf0YN7Ad/r+9jW8QJt38SFj3uKMRuGdmMD/2XtStp2PryMezQRksmKxJOJsxaTg01YO\n",
       "a3smt4SLGVzw+NRpELTuZZ95Yjveyd4sd0EtzhCwTq912gWL7tL7xnVe9zEg0W+claCSnUtf9cHp\n",
       "Xx6ruQ6MIjBvXPvY+X2MIFS3Nfp2P7cS2QgINgidiszQfdpVDmGKTGkFJFpOwtqZUe55tk45aclB\n",
       "VW1UiQwFKJQF5FA/wF6gWlp3V3YopbDx3vFVAAWTY0DOU+kfYVuk9erRqRhY00HEX6gpQ79IGVOc\n",
       "gC9hgJ/x5rRAMHcRkdCq5jN9oQhWV+2F4thBk7QnQh1aKXpINULe4V5d7W0rMYxKSR+BtdG8Sg9l\n",
       "KkUYgAM8BRyuE3nAgkgOH4P/ZcgmKlk1YE8AsQoHwQAAAN0BnqZqQ38AAKy8+SG2BLB6HKgA5yx7\n",
       "zbDKwBcwv8p4MYIKkH9SbbKvGmcd90twidZRdiap4MgXgnj3SBhL7Q9fozkW6C+sqgjLDy05T7vk\n",
       "4j6QNRFkTmWBCCwLwZRDcBYCTm6CjU4BROJVxrLVc7czLXlbPulrs97X6HGT7yncimuEk+Ef4Dhd\n",
       "sh1k+2gbz6Wb/tGycihLhlZGiT82OOBY1hxrr8K3vubtQsIGYvme5RSZ5u5RRSlDT83tEKbbNRV/\n",
       "NQOZQ5d8QHbvhiYxZsUP3gN3HaRgP57/wqhFwQAAAVpBmqhJqEFsmUwIIf/+qlUAAbTaNwe8/JoA\n",
       "HaXf+qa9yt1als18JCM3mklcJ5PzEZhnbIx188JSzZLliI/GuSY3oWjKVmW4vYxyra3pw/RT2d/+\n",
       "Zbbr6CTEr3d8ret54u5pg3hzCvvVt+lozCJa3cr0E2oP7Q6uEndXpllCvfSC9FDMLfxLWwo47zt0\n",
       "kgJqcP7qJJALR2m9GJD/9LG1LtfSQ02WAWeCXlhxsvASXhbR4G00c/gGB30/zhlog4KgPaBLqFhJ\n",
       "ORpbCApbSjirh5L8LOi6A4/6RjENYE2QJtrq9p1J1PJ4U3QKVQHjNnEEFg2tF5GoxWyIsGSJUSGL\n",
       "ZDPLY4HOfff/7bmPuC6fFkSgA+2vpptylRk8+TJVE5T/nw/Oq/xUyjPiuczAw1OpRLJDMQMALxmn\n",
       "Gt2AX2qFd5nfzsLx+AM2cLDL/8ZdyvkkpF2cFgaPPmC+CVmAAAABPEGayUnhClJlMCCH//6qVQAM\n",
       "FtG4AxuDAAdeUvrMCvQfmFKzVJkm1DghVSr8ZSNVaKeQ6GkoF/jWTYTXoPOlhUkt5RhBoUZO9AI8\n",
       "OxY8UKQ4tr08ps5s3IC6zH5FdjO6Q4eGjgAYY2d2eNdVgqx9NN1BMAyZc18fIAIibXx9XM63quH6\n",
       "XBf426mMRbPtXV+M0T3+/C7YDdS9MuFPLcx/ohIbdf3ougpXAZOXPiIhpWeXxYB7UKEkWabZoQto\n",
       "exNmw30grkl6FhJYkmJOpfKxguwPypgPbvF0sTC2roDhURhvnN0EgVlVXnp3Dio3FhrvONvyqOMD\n",
       "++BChl/EZruBKLB/f1yYKuEwsqquR5/WWOAeP8rIE/i8JT5HMvTJ/O0rmsgBZgOyOEb+vxhU8ahw\n",
       "UojQ0CzsjY83Jcuc7bMAAAEcQZrqSeEOiZTAgh/+qlUAG06RCERpyIBBM0OXQN2GWWki94miQ7m5\n",
       "grC6T5CceUPjlLwCjfN12XfwQ75nIAGeVkWL2pXG8UJjok8s6A+/P9MDYQfOcg2a44L+ATxQxEsb\n",
       "N54RUrGA65pMCoIelsAl63yL7nvmtH6ej0gpMNp+hfFVD4uDj0XdW3JfPH63f+Eg7O3+MbK7n9Ix\n",
       "mzabjX9TBgKaHF4pLyONUyiNOkMNq96MznGYPT9/nXoiscOJOqPd5DTgZSzQYEG3bH4m1nhNq2xE\n",
       "jqbZ7L8a25S1QmiZFK98PA2zzbVV6Oy5rjsWQpAtPQt1CrPwE4eo6ZU16vfmF7+CnHS8SEk1JJHE\n",
       "WRAfsqgL/LYJKM6vrjdC2K0AAARZQZsNSeEPJlMCCH/+qlUAG+2az8PhxoAMttlCKwxjglF+nZis\n",
       "/D6kbZ7sxv1GcFKNqpglAYWKdSCBr9PRP1v55SSwv3ARcOEQbKv+XFOTOlTmDWJPQtsPXTOgIr0B\n",
       "LaO06Qg6ruuODXZ6Hm0d+HiJBw0DXrHpTkoVLReisAjqwIAS+gbXEw4kzLMgFrIlP/Vyf6xX2W3c\n",
       "LeN6cuJWfypCKuHlT60lQaGhcH8oXyHf3poQe331kqwlGUPkWJ5PX0lfblfQ2rxlypaKxmRPeyAJ\n",
       "RCIojnoTyAFdtuobGI1v4ZkVhXLX8Vihfyw/DaRnI+7N8qOyqPhc1nvn19nA1MPqxQyCDL4WaCII\n",
       "CpRQvBp+Lm15QvqKBJQq0zM3BT0D3uTH+fbf0YemJCOi/uvP2bWE7QMkBesZ4DR2OZ23oxwVD7Dh\n",
       "D8u/zpIinnd5a+5LLVJa4FqnJ2h/3t3kpSGWPAV3tvSbrPgA5kuvS0L7bh89D8Cc+z7qsTLB4s6D\n",
       "zqKzKgeZ30Mnm05dt4vX6s1a4Eo87tsYJbPtCiCpMalJViUQ7HGsMUv+62BgLOVy64yzWOCOWFEE\n",
       "/4XsGoZKC3PYaXjprUxh/YJy6Vh6nGRuzYgmhzuct2MQ4PPrNHZC3AYF3yoE1FG3yQ6WSJNl707L\n",
       "DODrQHIIHghb+TxO2hZnSU2fFa71tp7KcdBcAzi67wsN1yIXwtj8sFMsBkxo1XH3yBRiZ81HHblS\n",
       "U5KYINiz/G9rYMEhPIE+n4f1lmdMl71vQldQRv9CEZzb1nPFNNawZlmpEXcAzdZq4cdN+bR14ckE\n",
       "avR334GAMEEgvIu/9WEb/V93Gh1rykFhgPwy6u8tfyUA19K4aMcHkTA/uOYwlHp5Ahe1ZBUKCMq1\n",
       "RQ99J05Qo2V7c45KaNDDIdwLZpaSX+4N8xJbcid0Skg3vQ3I+O33X0yamBLYqNgkLcjtix2QMxHE\n",
       "SGtcY8TiwdXkJhMlAYVAY71Lgq9IPyV5kPAOZ6lDGNrXr+cebwbVRQQq7APDg4vhxayHOvdJZsuq\n",
       "Xf88AxtvYA652REpb8QQFdYh1I+5UCWvTFX3RvEFksYZb4XFLMG1sd8PgKEUARPSB1npdXxGlYO9\n",
       "KsjqLtX7lhhxdhKj+60Qj2U5fOV28O0W8lT8eyKi1oouD4Qw4n3Rwz3HnWXZO1PQJFHPwmP9Qobx\n",
       "5z6Z97pgcm6I2BhpYCv35uwwJ2MzXJwLCGJuvdim3F1H0rWO3VQpZkV60Ju/9to5Emv8CJ29yWQX\n",
       "ehe8QsRD8irgvnxmgVim22PKEV6qnCqBoYNIN5rYl2kwsYJh01Mclr1LXC1M/NHtQ2+PyfgMKiRH\n",
       "lcZKW3Wq4ovYhz4RwWJLvkzVK6Bq16bgvaNwrtZ+m4uCK5or7G0AVHP9Q2XKgALJW0k/CnLzVVWp\n",
       "pBTIzncU7eERsTuJD6UGsfY+hcnbygnLQLaLrtKs+dm8mb1B3E5xagL0jdA9eU7Y6yHgAAAAsUGf\n",
       "K0URPDf/AE1r0BFNuNbFJ6au8Um3xngABz/sWRllmrt/Ow8Z0NDP+5ViQorn4QCsPKsDfRbzwEp7\n",
       "eOcMzLGAUUQZIHFbnxPCR/mbuHBWILe4fTGN2560VYm3xnhOXOHHId4qRTqZJACbrKAlrKZ+D6bI\n",
       "3vkeGFXtpui2tyKQgEMUt7tGhB5GZMFuzIKzETgViHQ+VzPk7i1mluz+btqnYWNiEV/ff3Yo7RnB\n",
       "eHnG0AAAANcBn0xqQ38ATr9k+EQj+ADarjr5+cqqD7h5dn6SdhY+kCUd4KCQhit4VNDpOmqmYQOK\n",
       "7suDVitg/Iv+oFZMWk/E4RpHsdcrob4bVg48cIxx7oaFq1c1cMM68IfxjDPpn3pEwshkf+Z+2PA2\n",
       "xDhwOpBiM7kE588JMOQEs2eF/l0cCAKU/OGa/3/TCr4WX0wS14ctSzGngA3FskhHpv2wnHyzhWPR\n",
       "thO90u1xw+6bLjr4+Fum6IPmvzT5p11W/fE4U0zcmDG18q4AJZOW52DY959VRZJ2t5oWmQAABF5B\n",
       "m09JqEFomUwU8EP//qpVABvMCGDh7I+ehrAdr5ABRevI1INw8opMtt4QwHCNzLLlf6HMp2BValba\n",
       "zEFd/T3z0/SfnY1+QVhnO67CAVo0oNnLRNH/qtOfNBSSZqUhypJZksXcwCx8tgz+6LBT6mmDoJpU\n",
       "2frLk6UQ1D31QGLVDmDQl7Fyg3t+RzAtpt0vbqqowg7dZU0VFMHfgXokmuhxK9eJN3Wg6P0fjWdf\n",
       "rXExnOm+fkOYqnmfXbewKrC7qsUVOKg5QobDPmVJEr7FHpWjKygmSsrHFHffVH/WuQnhkCAhwEos\n",
       "uJ2zI5k/PReK6q1WP3dV10p4zXwb0Sde8G7d4eiRoJYG9c0jHHna5VNnz/Vvoo8i/qFYbTrCMYj+\n",
       "/VlD6ZnQxvy47hutPVwNkUbW82p+1WiHSMmgli+rGeRY139HnUC2vqVyQPWUiIUiQS4M5FHKCKs9\n",
       "/8q89IQCzFK7fCb8lBSaTUfwYPnRXNYyb/DAo01ijSdvCA9NCKFhGYLYY5uMS0d1WgW6X/jOgexI\n",
       "4H9cU9dEsw5jQZo9arEujg4x4eyT4enfqSPGAGjNW6IlMo1C+mKaAof0Ixl3O7gWqP5HRo8BItBF\n",
       "Nvs6E4gQiciOYTyAvCGwmo1fxmqZymbYAMd6gFnJ7j03QxwRMnPuzZSBJprh8zX7H1hgo84A8T4p\n",
       "TV6ff9QE94RNdv3aMo+1CWOG5Rivtx+/abWH5eyooNgy1qTWFEuR2lwsHx85EMvlHQhD2IkfMrvo\n",
       "ERINLZX6Ba0oKpceUbB6uCMr02RCHJ4AbiLchkoXAyTLtkCVIx7EHAsuYGLa5oDRUY5aSErwhvz/\n",
       "tenwfhT7gNALpF0seOomz/r6T9F8jLJVe7DMFmm+xtNHc3d5xgRI+kR4G+CXhCAHUkps6EOaqYXY\n",
       "vikUD2j+7mwTW+Yv6GvvwRMmscTg/N51AEiZ1s6pR5yAXJfPrccjVpc2uWMDRZnqhy9AmYyXwcQ8\n",
       "/RUmtyqPSi38aSWM19s3NSABz+HCYEgiR5evzl9HDq+Wl72XxsnJBgp6sSvQNnMIwC+d020qkV7Z\n",
       "NmqSDP3BXDOY419l3iWZXQlo+2FtguiB6rnBRVterouaxvH3cCFzBLGFMZf4gCNXDOLJPXeIFIJ3\n",
       "yPta6rUEdY8YIPn5Xf7A2gdLBDIbveSPSKaVcK30PSJpVEgT73A5GBWRMLcOxgadFPbItPu3wRJq\n",
       "tkucvWSMHWnXJbwBi5fzFL44+ohTQsqUke5l9j4/k9xD/d9eE8UoBbBV7b0cfFaWxs4nDPDHgsiF\n",
       "0BhngF7obzqmOhtJyCsUmdZLqDPFf9RpEXzpi1WRGu857kHyiZPdgOa3xPX11Ob96Hxd+zZHRL/9\n",
       "UjYvzN/xtPBQF46+Z7D2nnif6hBkvSigR1xj9Jmg03EM6V5XEzD0k2iw0lHTfsvDYgjAWqNMtJVV\n",
       "dUNTBHQEXQMRGnmJ4CuLRPwBFtPjGg3okbyxFOWZFPJDuQAAAO0Bn25qQ38ATWLmuhFTIAEQRRvC\n",
       "oJ8UcBfadvZDANpIv2cgEW2pkWF2q9P65r590oor0Hr6UAThXKH8rMrnzvn9/hqE+T/qpMa8rOzy\n",
       "Yi8+vxYnSzF2eYhcr8H2peAnUovUPwUcT7eMYGpvy6u0N3MFZd9/DrDw3ZuJra5JePk3zBFJVuSE\n",
       "g91ZtqOuFGZR95yvvZ2739CzfZ19mO0THFPhKnIDK5TsjvsfuFsXwYb7wXvIQAWw6n9E0/KobG51\n",
       "Je9V6FeLk5wThLdg9VcxpEQLGnM7jQcZiR8j6blclXOJEVCxbkRQ3VPndyPO/mEAAARHQZtySeEK\n",
       "UmUwIIf//qpVABnsCs+ysnpHlCYMACi9eYMuLP+/zi8eKl00axkmE9+9BMiljeVtO0D+BLS0HCK5\n",
       "3pbyKuEYZQ6X/gR7riTjBsTDo5IgPP9pP8GY7ITv9OhuXaAnescVkczow8zumHPseYwz0EPwpJ1+\n",
       "EeF76idbEowVaAfwqR4MdUOjlotgsdIQAvAEjnMiDRgniykafhAsc+dL7CVsrLJRhDzJZRi+HFjz\n",
       "jlG/qQnxp5K8yrRIBhasj8PvPVtN/hXNKrokc7+Y5TPrLttM+OypuazJ4qGy2N3DjqjdticypnzM\n",
       "6nCC4XJnRbiUxkJVWaID+DDkIlXQS4sD4LDB3r/e2XjN05u4BoAEs9aax7oAx5H9tOjpw3xn97sL\n",
       "BPZuK9i0falDtrON8UOV/KZm1lBzBk0s1VbKKminF62MVAxGViTw0kJAcb/ukABcAE9bRw3SDxVI\n",
       "Y2hza0bvhaf0WUhVjQH8L15HY7pbJWdONvXpnpXsnwaOR+uWwYKdV299WDXiA+lxbHXYULMHznUu\n",
       "BAzHdQY51fTLwBvDEAALCWdkaGR0dLY4EsQS3VMAH48ZEzmR15auutvDvgqN0mBugpmQyl8aF2HZ\n",
       "by7TQFzcWUGOFSwk+3IKYA3fkoLgodvP8k3XNE0839ton49xupSui80UM4nMzJhOykR1sErd2KE1\n",
       "f7jj4QdZnTsEqa/q84Rbvd2eqiOk2I3s8o4N8TptK9oWL96IFAWFs3NALHBnkIK46aAu3Cg/eVzo\n",
       "V1aWe+6vTgbDEwEpx1Pui99v3eN/NwzruKrAZo5UQq8qdLOspAFiIoLYIsDRn/pfzNHjjz7Ew/Pr\n",
       "FZzqWW5wRwMozPLi2ZoH5HR6TYbl74R7AlVdRxfw1SI4UrE/CqV/5FfxZ0IJc+8lbRp6dtuFNpYf\n",
       "2ExgSeR/z0pKO2B2eI8rqF53WEGW/Oa9prF9O4As1QlWt4KYxFegoKfNmHsUWcx9nrXF4O3pU/TH\n",
       "phs5h4l3ZaYrfN1xmSEA6DGf2bryPwhuXpU8NvjvswVXs5t5m40U+ZN9tYR0gPpHPOT/AFEjsuXI\n",
       "CjRlqL1ragRmPyS24f6vxNRYqt0ytZ2rn/KotDd++kipWoPTQTZgX8f9f9xuRAELl0Yyf5sx1Gyr\n",
       "/7BTow173530yGA/zoQKBFpqpB6ZAnvKIKgkv+KLrMFALXYnOD/sAbpsVBfCAijOubN93xu96dOq\n",
       "6VCghmGjJL+7dWubrjn8BAmmHYZdBmrFUWVpLKg6im51YlMx2cn8yE16HMvSYKLDdgfmjkk/c3+F\n",
       "5QW8j3d7CiNj5uje7rulF59ChD51eS9/cjPzoEcckUHU3aUVn5AG921lE6mSdo0by/6Hf3B0IvV9\n",
       "gbAL/fBMRcWaclGyjSKgxKFbEyHycgjhpb9g+aMKsWsiLWTV0IOGZQ3IkHkP1BAbOqhY4oVGxeRS\n",
       "TuYqiDAgAAAEeEGfkEU0TDf/AEdi9S++ahsNwAcRy7mQwp/lsbCXvhxlSct9bDXvGi/gjPdjKstU\n",
       "D/EAgXoM6tAE7SQjCtzxo1gzHoY/OMh5vhg7jMlRO8NbdzNtjVJeWj4Q5eY1Yqbw+TEYDd2kezG3\n",
       "MSvyBbrVHLfBoKX1x+g+HF/SrjEZidaPzDihKM9FoWdw+JzhGUphpXJiLmcKwg6w7K0gWvSJVH2W\n",
       "dDCeTIOj625lxh7twRMx4MCudh0MneyTnFEKxG1PTFyUMqMm/4q9Et8ievorapSaDY2V3YgiDlh9\n",
       "yUEVQohgymsMhSM5/0hZWVffANzlaoqIvtIdadLBKtRa+LvxTACDnSd1b9GsAxKD2aOoX7+EVPr+\n",
       "EIjqlqoLAxzqAl/GOyNh+Li0ImyB1fM4tfAvDUQb5He9J7dgoLox4gBzJEiXTTMdASndSnYG8jQi\n",
       "ALJgnmDnxXtqsMkw4CUZJXSNQO9hTcWBGU+6duq0banNcM4PGX4j8ey/608WefC8irAZwC6SXgtQ\n",
       "t4sIDFS54FF2jaWdLsSOOUrwrwlo97flRNbSFeRdfncxXmcHNt/mWlG1TzjRo0zQdlzKSqDrWt+O\n",
       "uPd//YAcxuDZDhoFUDtodlvpt+OZ7A73IDs7N7LeTqZ28hrHgbYnbITwiukuPBMkxFh/5KlZ9q+j\n",
       "w7n8qiY4v2bXCGhSAU9j0GTO/hDpZ50foBzS/DnZQpSIsqZBPBDDwS3PG26Dk4wPRa2P8DjSunbI\n",
       "u/7BQztwysWfQPIQ5zpyDgiI1sLedFQD/pTpLLL2s4w9gqNgnQq2H8aG7u3/zE38XNo+SofMgFvP\n",
       "aYs/hV6lKsuQS2E23sTR7n7wOSq/Va+KrRXXdZgI4tPPg5guGPmz4qPYz8+OSu89Bd6XZUrtxPp0\n",
       "e7TYoZHfdfszzuUKAHlHKiCTrLlDhNljq6nlXYXmFFU/W8leaEEFKA04GMjZuAAAYvLvviYokqdS\n",
       "Dew02PhxG4NWNCahFzvVWLzBFX1OamX2FuiNQNnbLr7SRCtIbYEO090hHiuZdlNBMgxSQdjlzu5/\n",
       "6JkB5kxXDopcOq3B4eAYEr5IbKEiW/+fog1KZ0aZ3JY7LVlIjiaHSQlvBuBAgZSAPh8UK45FFZLW\n",
       "iW8WG1Cw9Gcr17ycS3rkCpTJ0enrcCeIlvLFQCRvF9X8KHtVmPUEeaqInIF2RCsD+7hVxNCAFjdS\n",
       "zud9r8rNgu/JxftImt3u7rQ5EJKv9y5A/WOlmPYpH+LxeI0j0wGjfLOQxJ2uMqaMLLbn4z4wytom\n",
       "aD7Vr8JOTMXRf9qxxG4ywa535GhMzA1yoYgMZpEV8QyCX+r4nnKro0URoBH1pqaUfkvXP+ulj9kQ\n",
       "9VbZ86kglQ2upR+SfJxcbHr/QqTAGA0LTEIxnUXqKXtjykDZlOxcXQ/kcDzPD7LA5RJ8nPXPYzHR\n",
       "xUnx2IkmBhviCzdH9oHKqxK2m6OQz2NqfburNplty5UNcpPy7Hex8+pjIpeybVyUKu840fGaJpXU\n",
       "O+WOFRorcT1SPwaBGdgAAAJkAZ+xakN/AEVi9S++DNugAEOImoQkxA8sUUk1N64npODTFatxnuLq\n",
       "0ZZEZ112rs4mrqJwrKrhdhpVsQ/MFT40mGPFBMIccEbMGg3Izeavbc+4fFnSpCIurJN8BaSfE6hl\n",
       "p/Oa0HLOXmPqpAinW+Wn2tankcNgPrhHDIvnRl2b1YwjRL34hlipueedWcL0sbsN6wt5w5/deL44\n",
       "jrxQA9XU18X9FIOuMuqEyIc0L+F4wJTUtmNrWDl902rdUkRFvq7ZV14y/2dV8V5OZf8QcoHleBh3\n",
       "Jcm4SxCq7V7XBIyCGmnIUXqyusIrs9+LgBF0iFURX239MGBLI9BZqkqBVwqSmPAruNcfF+BvvG7j\n",
       "PLf+C9IN85VDBSuyeYsLhaC48RUAztwDsa3+3P6/P1T0eInff9jVdd77YEvWEFWW/8J0UOyjlKUM\n",
       "Yio4w8X+txo6FMXET3Orz95zriZNVc41NzVxbwuQ8QNfkHGb+EYJlJfSYIU/DYdOjjAdS7Cr0aHa\n",
       "sTTbBQMUG2S1XDjMD8axqaz2YhDpkfprSHjUS6qNBUkytCyzc/4PcBFejw8ND7mn750mR2cY31q4\n",
       "vZKA689EfcLxJz7TAV8e0Tz5iU0MR6aSLSBQL+WyV4SK2iIjIrpV/+ymOV1VrNLy68arNxsETPYl\n",
       "6SBNWBHyztgYntkV2kU9EjGLhNmISSf8j7BhSxnIhYuwfljKNXCmBgj3F2YrDf7RPaDxyzKBSk/C\n",
       "a+Nyk+ZYsjnxk4mDvymPLHWZhbkoqiJNe6/yhjuR49ZdNVzwZZvmQ+rb2GcDxfVwfUjjX5MeByud\n",
       "nD5hAAAEWUGbtEmoQWiZTBTwQ//+qlUAF3EIYOHsj51s4lQYlABD4d+9tEgjwBxeTzBDOVC9yp1O\n",
       "KyBwNJZElwktDtI/ezc+ldMuw61/ozEHURNTyD8R8xAdNMXO/BmHWcH/JxkDCmqpTr576spcsXZQ\n",
       "K80OkFDOcEYvOm1Sjj6RypGJ0CzySHgGxEuwnBFWhJYmxsLwhokymju/Y91yDP3WyEFMV5jVK8jJ\n",
       "Typ9eb55zGsDHnYoHzZgZlmkxuWjEbFtvMjzrz8hpVBAo8Zi/ZTuocGhfP+HCdauCCVnOtWjWPb8\n",
       "iDFn5xJR5xu5qIyxXLx8bMKjS/5LWBAiYIWcEFnoLxkF+/nDLgFpDJrFVHU8rv1fOeBIWhTNIaAt\n",
       "WWdC7m0QP1AeGwL8e71DFjqodM9XQf9TXcJODwGRtAsspBigbZYY/7rV/Ek079g1A3DPwwvgFqJO\n",
       "RGgI8UIU9c3uI+ICDgzOqeyDIrio95kogVWoX8kDucmCcm90zA3HsRgnjt70YsaEtG2HIorDE3lM\n",
       "88DPl4RXnYIC5DVlrvbM6lyCPxuFBwhoOEasj3LyrNJH51/r4Y/xfWYBIqc6S4sbhkmrLX7Uc9hk\n",
       "w1m0x+0kw5TbetYBM1WvaWqqusxRdpYIerM932reOyOQ6eh4wHyj1NYqrr/phW8xG1koKp74jDp8\n",
       "3lZxMDj0HU+BcVTzoZoPeXRBBl2ts1tCoOGgGDGRmUvl5g5hog8DGWNJPtwl82j7/mgIIZg4qCNm\n",
       "TXZBpRrp/qUzcEzSuZOf9jJSlfYoU6RTK3INpguiJARhBQx2Z63Tn84xjkDpQmgAovlJCKv2uyfV\n",
       "rG56/BR4W8cBSmHV705XhMueUQEePt5BzMl9AOyQf1NsuN+W/xOy8A50ZhXnmo5cqenxk0R6/XKv\n",
       "oh8M5sDNddWO+5DRh/8+2/jMU5W0qO2lZMlZomgSIKOEI5Bpedx6Lc93s/SPoMkcJCK3jqnw38Kc\n",
       "BD6szRz7K6EwILdrXgFuO98nO7Lh9/qZB5KNJ/CZ4E2nwuXWSlaDPp0JDlzU+FTLwq1iWiL5UhW/\n",
       "+UT3Oef/PtcG+b2u1Q+xMjy9YGqTWptAizSKcp6cq+GAce1+OOxZihONMYUtmtMPOlOYxcBwjL+6\n",
       "BVL7uPYVKED9wB4ClNvkNd2V0O/mpCnCmgYre6uCnueh8wbBhx1yQvje0SWxgDZpHNa7RraE4MMs\n",
       "vtqeGlGdWn1hgW1uarpMClpPvGEFxoVeKPuySN5paWfkgswauV0YBRoXn3MKJli/hi5ZH7xh2TWa\n",
       "7Bk8/7vIMVYqpYHST8RZ6cMMQEljeIvVD3c0fHTPNNkr/xeidKwaIzTCVsbr6spPjJY0I/qyctB4\n",
       "QaZmXjB6Hs7LpRnnqodS5WVOGAaPe9vUztBIklO2H+ZKigrau4oe350HZl2Mpoui47++A3xMC5Ez\n",
       "9yPSA63nfW+e1tzMsmha6G4gKptMaU4gn32U1esoEuU8dQjHgAAAAwcBn9NqQ38AP318L74zo4bg\n",
       "BA1WRZ4HKZBZe1e/w6ILiyNhqpQaz0GiVmbvq1/9+1d3xaWNTDiOwzaUTIHsmEN233D+uQVFP8SA\n",
       "cGRw7ZH0HkZpIEY+VPIQqTPXCE9ZnUq1Hq1pnFHtuZnQDDq2iu5wxERd3v1Cl/B/MaWkRZUA4dB3\n",
       "b+nddCAS0ilJCzEZ08liyZea0+vCzN2IG05GqaUD2+l7xhlPoH+uhs9Txbe9vpE81giMtZfSJGM4\n",
       "S44VeGA0lIEp31zslvx16dcnYNhTiK+etxaPh6HzSVFjQbZC5uyGnHgvd3W6IS38+A0WPC25Poh7\n",
       "LMlBu1Qb7RIXB79piVNiqJvFGbXPmjpKRzds8mcQ3YGMztI2LCpQfd3SYlIV8axa7Khxpc2JdYRX\n",
       "wHIoMfBbWNr9jwFUcXFLD2rM7lYdW7d3SH91nRDWw/pmISmGlpO7oQOekASUUkC6Tg3jwUn45ncC\n",
       "pHfo3honfZcd50cylO8j6Qb9oOk8yDjk+XG9xl0fAySlizn8JIFB4b6gCW5wK7yW/MBqKrH85BwM\n",
       "e7nyN41nF8GF+IaVcIsXOJHPRGlufamHQEQrVpTUdlluFSAe68oD+sNIas6P1qsowR9872hTqmEK\n",
       "8zsLJedSm2SlAkSOe+WKP6sUfov2sAnLecmS440pjs4xA2vFfJiPpqpTrxdGlkq1qha9mVrY9GbG\n",
       "iFfRz7I8KmoX1N27eu5zcffJS8zTEtV524tN4OmEO78YTR7VI+6SJpyVb1ZAoJ+W5htX3MA7chPo\n",
       "ThRljr0MSm1mSjIQkFIWFMcTjm+hsOhfNFqZzousn09g9e8QUqRTqxF92MuTMDgUmI938iI9BJrq\n",
       "KAm2W94JdgYSad2sH/1R7LEKM2l0p5Trg6MxvIQE8vlYLv0naOPL4kfpkyxDdafvn4kBDhN6NAfA\n",
       "dyZM1YhP+K+d4Um97V3lAaS4sUJOCFmm0rT7kefzyPGI0h7CEx0Mn+APxg5masALiSzevqfR7Idi\n",
       "rYMWqu8xt/E3HQuehp5zAC2gAAAD50Gb2EnhClJlMCG//qeEAKeCh8Mb74zo4bgBAt2izwOU8+b3\n",
       "3/+HRBlKUeGYs6P9QGtszd9Wv/v2ru+LS7SLxGmII5AIctJIiO2+6MYJp9v43s7SPNe4W+T3zP96\n",
       "gfNdHnCaqcMM7G4LUoPNZXreqfjsP8k3a3W4661dHxtyG/a/OxFCq5BadH3W7BdV9aS8N7qe3aRp\n",
       "F/0P8nh/c2hkJTXnwkw49zmKaLKJE6eaL/RWExpqyE1rcTsdc6RTw2bOgsNYni1Yy6F510t7Dd1N\n",
       "21kP/VHJs7VUk/dVe+c9ARdOe126AfSN2+bZbxi1FMfSAIAiWMn1+xg4xvG6UF4Bu2/0k7NKP0uA\n",
       "fe2pq8aD1FrDd7f4yV8fSdgcoPrHVDb2R9GK+WNCpQqkUTrp9jV5W/XmwCx/hXQzBuaHVB7cAJ1w\n",
       "2gRnkwuv6Z6bSOgezbek4iGIjOBUiCcVDlX8JYZ9UUVRa/gf3FVD/GSDuhF96n9onGbgLbsIutJa\n",
       "zb78VC9gkR/egaU0uhoQUUG3mRQG1hBSXr/pT+2dseC6L1aHvD8+ZldJshhQ1+/qXU6LlnvSfFsN\n",
       "Rp6xcmerOcMVbPP3l0L6a/1ReRCMZFMKeLnJjwp1zRV3w5nR/2Oq4jvzj3ZEA9vZ79iOks+cKQbO\n",
       "3NAb4+lYKL54uc4gG75Us4hZnk8QST1Y+SLqIS4vIif0ja1v68/+umYo1slv96GAAfkVALFjzZKr\n",
       "zVqZ0d+2Hr9wUaOAtkTrwPwD1b/4KFHZg4ozKJs69RlBtBXJFCH4ykwz7aefenMqeDuKU7MfIcdL\n",
       "RQ46715sTVE3wEWwRWZTx/8iWMqbqJFWocNy5z6UhuAIcBmLjmm559tDbYIifzQD/lGqJx8SHRyU\n",
       "IMkX8+t1SRSYqRRvYpyZcrTRIEJEiByKzwnTHZ8wvjRaR4xJmY3LCfWDZratp/+dyR4bD2JFA/az\n",
       "ZmKkPcTvFnNiNR3h9y/lY41EAFNCkQUu8BIjLYvFkayWqg7XRWc/310aiMcrCClf4/3KmS+snz+9\n",
       "o0fdSObVRCatuErj+MX1xPl3d5MyPmjw32UwBukTfMDRWtNMObMVvep9t6is92TYYHSHjuEIgSnb\n",
       "bi2+XyOu4ljxo4Z4T5ZoyYuziH9I1yOGcU14SAmRA++OdnnbUwTMXZsRYsl1PhIxWpx9uAQe1v7p\n",
       "RKRVIfOtzLBDoX9OlXzzcI0xoIEH2gNqzXf34BsgkfUcScbzj0/JOS/Xolmg3KeVXVH7T4QdfiEF\n",
       "vxO1tGwJqKuMWqcSKDXFipj3u1A6me58rQ5/dkgjWRWYZT8oMDVxswmt0av3h5fJHGlLwQAABIRB\n",
       "n/ZFNEw7/wAqVMfZwfAB+cxK07RiHLjzISuXfpMP/7SX1k9bGNyZFumqGMSAW2UF/FCKXCNi4k1n\n",
       "EC4SuVtkBDnPl0lHZeZXUjFxmhX/c8W4oOjzrShP/+SpaU9QnrNbiMTCaQLOag43JoMGU/eBVkwe\n",
       "wBU6EOap55Xos3+owLlM0IJYOLWy/I4Rc9dTwEoD8M+XOnSYIW8UDnUBCdINxO0uwPbALwucbBrA\n",
       "ox0EdMxIoKKRUz55a97oxy9k8OVoSmPIxsDh1Cu6GQfBvEDr/KwANnJL5UzY+a+gxoX171q3cNAU\n",
       "BedkVAX11nloq3yxEQYgx/wv94c5a1DHqseuB/TM/XMM0UhnGPOXGgfFjmu+Ksbu4OGYkbtjIs68\n",
       "dJtiCI73kF91icrG+w79RLlFLFfQR2QesooCG24lNMsv1VIn30q2GfFFycBFbyDuNfthN5qdoPsm\n",
       "jLxPCQJUN/mYv8Q4cTJn9jEJIrK7SyvQvuTQUuf23J/OGDnsJnSNQkehEHRsdbPKg5d0o48W8ftZ\n",
       "wNQeA0tbjjg4JL9CRaHs2RSPSnwkq4vBCLYDbfVYcNhKbQ9uYBuVdGcTZ9dubWaOP1QATSuXyt/V\n",
       "usQIoqIz6WclClceaJF3OCHEBiOED0q9reXjjEp8Wwf7NfJmAb6s/BN4tKEqJ6ZNpNzwB7AC/22X\n",
       "siy2RaU1pYdNoQ2TEnXPJTDWFFqx6DLaXEwyQjkcNt/NR1rX/S3Jb4GT75SAjIFRHniS48dSmlUu\n",
       "F/5fUDiZE7dcQkdGxMsIUQURWJ86k6C+utGDUDFEyb8N+dRU4wIMG+5ser2UCLDiJHYuhSolR/cT\n",
       "SYHR3L5grLd4j7114jsMXel3emlkqYSaraNXUuBjgK2YsYD2ahqMKC318eJe/M4Zo9roWMX3AAY3\n",
       "X0019CpKPhY/KzL6lAwXDpQr1tPVa3WsKpzu2gbK4PlXG4q4dJN9OE2tRI0BXdNYSDe6VXnFB1hx\n",
       "DbsFjLch6ax7ePZdAc01nZxgHco7GQg0q6AoaTQ9zUsmMg5zoErvKQc6NKgjOF5r774PnL8FhY7c\n",
       "c9yUHaE+oXTajlLbPrxN/xAUdNmYK7kyY+osMaEPabT9ubviEst2AGq3aHZJ0ZW3og4r5K2aw7zg\n",
       "fq9nlAq973nQ8Qv22ZS5cHT+L0TW2Y7k8ZWB1zHoQ9zghNXtmZoivKtCtVJS7drCgRaR1CAOCzEq\n",
       "eeowh+kLB7/gIBIZtjTPX2TLgMk5iePl1XoSIv8N8RSEnfWdlvxQ75yP5OIQrk5u7SoTVjhqfTp1\n",
       "uBIm0I81ys4fntGyCabPRdkxEAo8Gy4iezmU/JIx1//23cWYp9Fkdy45/vZSonxeQnZOgC8ZVzbw\n",
       "UGPAag1SH0mztjXnMJ/6F6XSBWaNdTJ+oWK5vXQt9shRyFzWY8sBaYNZSqR5oE4RrQREjFXOpwbN\n",
       "vU/kfzjKnrBcsOs8Gf6qpFBEhoEYD82K72m2XfBMRpBz2gSfTLOQ1ApoT0ORFzeu3nk1GvV6RZQL\n",
       "e9FrdqEnmlUApfY0IFJAAAAD2wGeFXRDfwA7WlYX3zW1sNwAcRanDOD5++essNbwNPaM7oIfh6Ra\n",
       "32RjPRMqy0QRIJ1V5N+aQiYUJkZ1xvlSCYx6wj1W+KJ1+cW9XLl738mtrxR+Fz3Za5lqYsFyezxR\n",
       "L2+5/9tykCgbMHQN9u9kQvtf2l7b5KWARWeg33UnslPzN7UAmm1xMhguaY00WjfY+WryRqybsF7o\n",
       "KkganmQVTSNFbP823ezTbYGp1S03hpCg6b1WieSYEvW460wHurVekKRfys6ui2iOMxiAX7hZyugh\n",
       "nNiBaMteomRtmjCC7SdK2Y+zychQ0MPNqXm6/0yM81l+NVpYiLt4IWEUOfUSuBINbCA9YMkZMNf9\n",
       "xQk+j8DlAdLm2/CuPwb+/GLtIxyDDSPdKVpLUY7/hMSw7TPsUP4R/MDW+qEKt7UCsZBfL27rgrcz\n",
       "/FNSHsiwYVg3dsAZlYjc4Iu3e8ibNOoLpvs7OoGufigf5C3SMWTujPbqdZMTnybHqRo8dFIHWHQM\n",
       "ahEn3uelHe82mMo4rF67+3uwc0gdBe89wvdu80mcD/RnutgV5i5AClDIx/3iTnhnL9vTnRn/4dJO\n",
       "00NH/QTrnqd6e62UxxZww5V+21Y1XUJKUyOb96AWYSxICB6x84jPEcvM8EJAMf8IcWuX5tWpU+25\n",
       "diqw5p9lK9g/xG3pNnBUeSeSah/UfaUBTAdgd+h5Hvk7PrtiW8MLdmrFPeqP//rmHUfvzswBu62z\n",
       "EvhW4CktMnIcPl7lAFLK6TnO86mY0ao/z76h9/V+GtMPvvOgaE08TdrshnFZuzhRRZuHwJR5juaR\n",
       "2UGUddkiPJBot5C7iAJY1ZtMVh82X+W1YKBL/t1tkZT1gFxyUcYcmk283TDv3CNuaMZrOE2rHNdb\n",
       "PDcXq2nLs9t7G5b6BVIBZod/J6H5jrJRa9gNZjTT2v4XjqSiKl9N5HQDH3h6wguAjp4LwIc94Uo2\n",
       "4RVY2v+V+IKts28mpu7s9/H7kLvhSVOs8uxE8mQSsFXzpj6CYV9i55T78A9HCs+amjzA2WX0gCrD\n",
       "NzuNb6yJo28Ss5JikFYhutGQGLq4VgSZCuNnp/XoC5TPekiGJexCiv7DB3gmKR+ZEZkWGTEhrS6a\n",
       "sEidKpWUGN9KEkU+cgmDvbrMJZ1wHuoZHApwmc4YZ+BAxwJ/hhxBq3VOUUugu+DQ2vJJUQqUXwoH\n",
       "JeoHB+3S9/275g83ynWz6aztGTK6k1anMcbimTllby1O5jSebGE748PrdIkLnrnRL8OA70i1RsRY\n",
       "Km0MhAXSLPMxy6Uv7c8nCoHRGNCesSMVoc+K7QJVENHntRToWQAAAOQBnhdqQ38AOJ14FlTWNcrA\n",
       "B2lT4ZwJwMuKnwD3VZSIeB0ajMQZbAMFlrZOepxSCA31wQBVQH5PSu9OoD05PCuRYg0jMDrjxc21\n",
       "8rH7xImtX0g5zbH9FySmZbHXBoZI649qv1XKbpM8SqsGIEEiXqpXhAOSeE3CbNpy52DPTeKuQq5P\n",
       "YC8ukPIcsX8RsWx0FsKpvJz92vDoeqYqjCZJO14R8ISYpMuxr31uHmc0/Vo/1fcx+I8VMrRO9tVu\n",
       "LJRAv7mAmOiW4d8YtgP3g1r5X/v3CXJcMvYWjEYUdQW1fX0w/vW41oEAAAQzbW9vdgAAAGxtdmhk\n",
       "AAAAAAAAAAAAAAAAAAAD6AAACcQAAQAAAQAAAAAAAAAAAAAAAAEAAAAAAAAAAAAAAAAAAAABAAAA\n",
       "AAAAAAAAAAAAAABAAAAAAAAAAAAAAAAAAAAAAAAAAAAAAAAAAAAAAAAAAgAAA110cmFrAAAAXHRr\n",
       "aGQAAAADAAAAAAAAAAAAAAABAAAAAAAACcQAAAAAAAAAAAAAAAAAAAAAAAEAAAAAAAAAAAAAAAAA\n",
       "AAABAAAAAAAAAAAAAAAAAABAAAAAAlgAAAGQAAAAAAAkZWR0cwAAABxlbHN0AAAAAAAAAAEAAAnE\n",
       "AAAIAAABAAAAAALVbWRpYQAAACBtZGhkAAAAAAAAAAAAAAAAAAAoAAAAZABVxAAAAAAALWhkbHIA\n",
       "AAAAAAAAAHZpZGUAAAAAAAAAAAAAAABWaWRlb0hhbmRsZXIAAAACgG1pbmYAAAAUdm1oZAAAAAEA\n",
       "AAAAAAAAAAAAACRkaW5mAAAAHGRyZWYAAAAAAAAAAQAAAAx1cmwgAAAAAQAAAkBzdGJsAAAAtHN0\n",
       "c2QAAAAAAAAAAQAAAKRhdmMxAAAAAAAAAAEAAAAAAAAAAAAAAAAAAAAAAlgBkABIAAAASAAAAAAA\n",
       "AAABAAAAAAAAAAAAAAAAAAAAAAAAAAAAAAAAAAAAAAAAAAAAGP//AAAAMmF2Y0MBZAAW/+EAGWdk\n",
       "ABas2UCYM+XhAAADAAEAAAMAFA8WLZYBAAZo6+PLIsAAAAAcdXVpZGtoQPJfJE/FujmlG88DI/MA\n",
       "AAAAAAAAGHN0dHMAAAAAAAAAAQAAABkAAAQAAAAAFHN0c3MAAAAAAAAAAQAAAAEAAACwY3R0cwAA\n",
       "AAAAAAAUAAAAAQAACAAAAAABAAAUAAAAAAEAAAgAAAAAAQAAAAAAAAABAAAEAAAAAAEAABAAAAAA\n",
       "AgAABAAAAAADAAAIAAAAAAEAABAAAAAAAgAABAAAAAABAAAMAAAAAAEAAAQAAAAAAQAAEAAAAAAC\n",
       "AAAEAAAAAAEAAAwAAAAAAQAABAAAAAABAAAUAAAAAAEAAAgAAAAAAQAAAAAAAAABAAAEAAAAABxz\n",
       "dHNjAAAAAAAAAAEAAAABAAAAGQAAAAEAAAB4c3RzegAAAAAAAAAAAAAAGQAAEz4AAALHAAABUQAA\n",
       "AJkAAAGpAAAD6QAAAkkAAADhAAABXgAAAUAAAAEgAAAEXQAAALUAAADbAAAEYgAAAPEAAARLAAAE\n",
       "fAAAAmgAAARdAAADCwAAA+sAAASIAAAD3wAAAOgAAAAUc3RjbwAAAAAAAAABAAAALAAAAGJ1ZHRh\n",
       "AAAAWm1ldGEAAAAAAAAAIWhkbHIAAAAAAAAAAG1kaXJhcHBsAAAAAAAAAAAAAAAALWlsc3QAAAAl\n",
       "qXRvbwAAAB1kYXRhAAAAAQAAAABMYXZmNTcuNTYuMTAw\n",
       "\">\n",
       "  Your browser does not support the video tag.\n",
       "</video>"
      ],
      "text/plain": [
       "<matplotlib.animation.FuncAnimation at 0x1122be550>"
      ]
     },
     "execution_count": 9,
     "metadata": {},
     "output_type": "execute_result"
    }
   ],
   "source": [
    "plotTrajectoriesFile('DelayParticle.nc', mode='movie2d_notebook')"
   ]
  }
 ],
 "metadata": {
  "kernelspec": {
   "display_name": "Python 2",
   "language": "python",
   "name": "python2"
  },
  "language_info": {
   "codemirror_mode": {
    "name": "ipython",
    "version": 2
   },
   "file_extension": ".py",
   "mimetype": "text/x-python",
   "name": "python",
   "nbconvert_exporter": "python",
   "pygments_lexer": "ipython2",
   "version": "2.7.13"
  }
 },
 "nbformat": 4,
 "nbformat_minor": 1
}

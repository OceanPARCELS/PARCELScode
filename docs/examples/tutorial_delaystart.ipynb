{
 "cells": [
  {
   "attachments": {},
   "cell_type": "markdown",
   "metadata": {},
   "source": [
    "# Delayed starts\n"
   ]
  },
  {
   "attachments": {},
   "cell_type": "markdown",
   "metadata": {},
   "source": [
    "In many applications, it is needed to 'delay' the start of particle advection. For example because particles need to be released at different times throughout an experiment. Or because particles need to be released at a constant rate from the same set of locations.\n",
    "\n",
    "This tutorial will show how this can be done. We start with importing the relevant modules.\n"
   ]
  },
  {
   "cell_type": "code",
   "execution_count": 1,
   "metadata": {},
   "outputs": [],
   "source": [
    "%matplotlib inline\n",
    "from parcels import FieldSet, ParticleSet, JITParticle, Variable, ParticleFile, plotTrajectoriesFile, download_example_dataset\n",
    "from parcels import AdvectionRK4\n",
    "import numpy as np\n",
    "import xarray as xr\n",
    "from datetime import timedelta as delta\n",
    "import matplotlib.pyplot as plt"
   ]
  },
  {
   "attachments": {},
   "cell_type": "markdown",
   "metadata": {},
   "source": [
    "First import a `FieldSet` (from the Peninsula example, in this case)\n"
   ]
  },
  {
   "cell_type": "code",
   "execution_count": 2,
   "metadata": {},
   "outputs": [
    {
     "name": "stderr",
     "output_type": "stream",
     "text": [
      "100%|██████████| 4/4 [00:00<00:00, 1815.72it/s]\n"
     ]
    }
   ],
   "source": [
    "example_dataset_folder = download_example_dataset(\"Peninsula_data\")\n",
    "fieldset = FieldSet.from_parcels(f\"{example_dataset_folder}/peninsula\", allow_time_extrapolation = True)"
   ]
  },
  {
   "attachments": {},
   "cell_type": "markdown",
   "metadata": {},
   "source": [
    "Now, there are two ways to delay the start of particles. Either by defining the whole `ParticleSet` at initialisation and giving each particle its own `time`. Or by using the `repeatdt` argument. We will show both options here\n"
   ]
  },
  {
   "attachments": {},
   "cell_type": "markdown",
   "metadata": {},
   "source": [
    "## Assigning each particle its own `time`\n"
   ]
  },
  {
   "attachments": {},
   "cell_type": "markdown",
   "metadata": {},
   "source": [
    "The simplest way to delaye the start of a particle is to use the `time` argument for each particle\n"
   ]
  },
  {
   "cell_type": "code",
   "execution_count": 3,
   "metadata": {},
   "outputs": [],
   "source": [
    "npart = 10  # number of particles to be released\n",
    "lon = 3e3 * np.ones(npart)\n",
    "lat = np.linspace(3e3 , 45e3, npart, dtype=np.float32)\n",
    "time = np.arange(0, npart) * delta(hours=1).total_seconds()  # release every particle one hour later\n",
    "\n",
    "pset = ParticleSet(fieldset=fieldset, pclass=JITParticle, lon=lon, lat=lat, time=time)"
   ]
  },
  {
   "attachments": {},
   "cell_type": "markdown",
   "metadata": {},
   "source": [
    "Then we can execute the `pset` as usual\n"
   ]
  },
  {
   "cell_type": "code",
   "execution_count": 4,
   "metadata": {},
   "outputs": [
    {
     "name": "stderr",
     "output_type": "stream",
     "text": [
      "INFO: Compiled ArrayJITParticleAdvectionRK4 ==> /var/folders/1n/500ln6w97859_nqq86vwpl000000gr/T/parcels-504/liba0dcdf7e6142ca72bb039d9e8fab7f30_0.so\n"
     ]
    }
   ],
   "source": [
    "output_file = pset.ParticleFile(name=\"DelayParticle_time.zarr\", outputdt=delta(hours=1))\n",
    "pset.execute(AdvectionRK4, runtime=delta(hours=24), dt=delta(minutes=5),\n",
    "             output_file=output_file)"
   ]
  },
  {
   "attachments": {},
   "cell_type": "markdown",
   "metadata": {},
   "source": [
    "And then finally, we can show a movie of the particles. Note that the southern-most particles start to move first.\n"
   ]
  },
  {
   "cell_type": "code",
   "execution_count": 5,
   "metadata": {},
   "outputs": [
    {
     "data": {
      "text/html": [
       "<video width=\"640\" height=\"480\" controls autoplay loop>\n",
       "  <source type=\"video/mp4\" src=\"data:video/mp4;base64,AAAAHGZ0eXBNNFYgAAACAGlzb21pc28yYXZjMQAAAAhmcmVlAABlC21kYXQAAAKhBgX//53cRem9\n",
       "5tlIt5Ys2CDZI+7veDI2NCAtIGNvcmUgMTU3IC0gSC4yNjQvTVBFRy00IEFWQyBjb2RlYyAtIENv\n",
       "cHlsZWZ0IDIwMDMtMjAxOCAtIGh0dHA6Ly93d3cudmlkZW9sYW4ub3JnL3gyNjQuaHRtbCAtIG9w\n",
       "dGlvbnM6IGNhYmFjPTEgcmVmPTMgZGVibG9jaz0xOjA6MCBhbmFseXNlPTB4MzoweDExMyBtZT1o\n",
       "ZXggc3VibWU9NyBwc3k9MSBwc3lfcmQ9MS4wMDowLjAwIG1peGVkX3JlZj0xIG1lX3JhbmdlPTE2\n",
       "IGNocm9tYV9tZT0xIHRyZWxsaXM9MSA4eDhkY3Q9MSBjcW09MCBkZWFkem9uZT0yMSwxMSBmYXN0\n",
       "X3Bza2lwPTEgY2hyb21hX3FwX29mZnNldD0tMiB0aHJlYWRzPTEyIGxvb2thaGVhZF90aHJlYWRz\n",
       "PTIgc2xpY2VkX3RocmVhZHM9MCBucj0wIGRlY2ltYXRlPTEgaW50ZXJsYWNlZD0wIGJsdXJheV9j\n",
       "b21wYXQ9MCBjb25zdHJhaW5lZF9pbnRyYT0wIGJmcmFtZXM9MyBiX3B5cmFtaWQ9MiBiX2FkYXB0\n",
       "PTEgYl9iaWFzPTAgZGlyZWN0PTEgd2VpZ2h0Yj0xIG9wZW5fZ29wPTAgd2VpZ2h0cD0yIGtleWlu\n",
       "dD0yNTAga2V5aW50X21pbj0xMCBzY2VuZWN1dD00MCBpbnRyYV9yZWZyZXNoPTAgcmNfbG9va2Fo\n",
       "ZWFkPTQwIHJjPWNyZiBtYnRyZWU9MSBjcmY9MjMuMCBxY29tcD0wLjYwIHFwbWluPTAgcXBtYXg9\n",
       "NjkgcXBzdGVwPTQgaXBfcmF0aW89MS40MCBhcT0xOjEuMDAAgAAAKg9liIQAEf/+94gfMstp+TrX\n",
       "chHnrS6tH1DuRnFepL3+IAAAAwAAAwAAZUDfKVB/eXDc4AAABPDOi7eqqAx2fxAFZA6KQ+X0XRbt\n",
       "bY380OXUpoKV3ka4pNOC3QdYd6vqK47XKFdMgQXiIy/kIPZsWPoEAmOLc6Dk9O6XjpGrLv6jOYj5\n",
       "weoSUU66lnEpM85BHqOBMjPK6sUGo+jxwAdi7O65QvbZ4fbp4yQXIlaAfLBK2LHG8Zw2wOA8FZOd\n",
       "lWSKCJ2vey8r75f626guXs5zcs3PWtTqunIuXN4QUDixUhUC38CJL1vr35V09cDPIEFJwT7GS9R+\n",
       "yLXpoV+aN9Jli1/8OwljM0xd5gxnp19qFRrZXX9jiuUOg4zSY80H5NoXRcNepY+HTqqLn1DEtZ0n\n",
       "rhLMOxBrfSfj/KKM38RghbJty8SiROOGpp/PdjuIB0bjI1IptxFkqZ/nRSCBl1Lzxzkv+4pRA5zT\n",
       "kX8w4FstdEE13HjAydti3IZEOn3R5Xki23Y6sYc5z6T+/7Ir/ZhLf/0Fi8X8L8MeCV65o3vSFj2P\n",
       "U7J/QwwHCGGSI+8BB2N3W/0TyQ7W/3IvGF7yNUQldlDcuBd6rcM2Gex3iQM8A5yZkXwwL0/hCuRF\n",
       "aTfnk8WhDDhfxCV/j3SfjCFddF1/8sQRS0/0druHf6RacSBV12mBLEpAsH6ZMT7KPKU/+T4VahlW\n",
       "mDlaCWBL2por44ZMsAf9loaKuJopaduZ76j93zkB3hvbLtB4il6uYLc3gQmTK51y/d8F4jZsEfNp\n",
       "4NCB9fOPX8fzW8Q7GrvnVsHhqo00+yxghsiLf/xZtawl8cF8/Ta15iEfc+A65BhWFZHbyAbw1R2D\n",
       "L8alHhCFGnenr3uh5bDHPJJ2wwDz2cyJ0FuK5ZgxoUBPI5+ko9BTcp/cVQsE8Nz8CyccbDmUtgGu\n",
       "JD7Nehc7nxbS3XP9sXW5hB2U8D1p5qyuiuIG18CPi4CHf0EyV32VNzHqjlEM/ebwfeI9TEngSZ8F\n",
       "JnS688S6rVEdi3We0pz4QomrWqPdKQx6pQ0PnFusm/i2faicVCoIgP75LS/u0cqw5bPYpbtBJ6ng\n",
       "tpXsC2O9fBbwgijXUZN66BofzwFNrjWbQnwHPdFoEwXBFeeQ2N3dv4kjcr41smaaDFSOV7CPQ5ur\n",
       "JG/x6nOwiSUPtbvQpAjVlWImnnauX0ZHJrfz3g80lKzQdyrXK0Dvuc++9ULfQTtLlDuVCj7GK/Nm\n",
       "pvUXzFTFPKaQkBld6qNKrw2tuv+MyYuU217Crt0Zi2AHpToBrBZdOJLaHF7Z3lEkgLrxHyWknitd\n",
       "kTyu3W7DCseFDimrgkJ1r2GB1M9CEdhoBkp7oteoC2yr7WVWJMfoL8k04olwYJOlGPVJeOi5Z84d\n",
       "q1CeFf/3e//82ym1M5XR2eOEDAsZNhv55XVt9vp92NJ8tH9Vh8K2e+c0ODIjG/FPySw3ZhUzyr3v\n",
       "AUVStcWNXbywnAIFfGSXw9mwGRaMnieKbi2E+gkJNTMRM/xMB51dUN9XZLY4PgbT9RxbnGy7goiZ\n",
       "hIvzp7oIHVvTJvqmaJfvg7H5eGLMBgPMAwqJkaN7OjaAd9Rb6H13k9Fg+mjJlCAEfB52AcpzWa0o\n",
       "wP+5lcSB9iisMl0hj9M0t0qzkaNZOMkINLYOhE2OUun7AsE3IB4/7rdJYB6jSQqiGTjTWHfFQRHr\n",
       "sZKoy/L3BI4tJF+Eylp3xw211mS/xL8IzD6qrwop9Iff7tAKPaMBrfe4nMQJ1S6TIa4uezP0Kwaa\n",
       "4kBXfrJT2az/dA+DlAbIy1GHYBAq/bZlwJbp4hlg30FNDUVOC9nIOWOO6kxhT8KRmiW15WKLQgAM\n",
       "DTvBB++qQkKW8yeFKhKbuFn29SXqrbSsuQcwCMLI0HZv/ilO6ogp9RXga3RNCqpiJyyKk1Zf5JPw\n",
       "A5ycebSe5NNewflm/QFi8a4EV5WgGQkAV3QqMIrGfm5OmfLsj/pEXxiyiqU5LvVIJv8rDk2r9s8T\n",
       "hXk9CiHzjmaCZwJ6MKQtb6t7YSI8hn/p/6NF0jHp08bWf8tNbABdohT0/LZwEaPm55Dvp8O2kORY\n",
       "apGTi0pcmU8HKLY6umOYwH+I0tI3mN0JTDt74ExRsGlFheTBy96qps+kaqc8WXXIAKZMHL+3h566\n",
       "6WbvlVbNUMdn3FjFwVNPzI0vgRhLlwt6ndk4GaAsjI5zDso891HFF8dAPpt2l73DmuTYGPKtFHbv\n",
       "xX21tRFGVv4tHr24Uxo1rFxVSYT4Txd1DJ64TrEDI7uvmA6ADDKURwuUckFZ1TRkfbghWxwTLcgx\n",
       "UJO/Z5W/tRVnNrY4VpHSZZck/bZYdFmImRs4JB7tbdd2j1UaUXzvqxIzkqzNJDj/T4BeZvY51qJ8\n",
       "ovaZl4uGOHmM/z3lBsJwCHY0Vh4+6Uj8OrY1o0Aum0ItxLfk1ZHcN4TZSWvaw41CwB4O2GoQTFCb\n",
       "0NH4qrDTMx1zcIOTPm6ojrONzVmeYolqSwYKU+tEezn6LuaLAPtcZKnfWs6x0m5nGre0m6IyulaO\n",
       "bVNqQ9FugVhpo2dUqfqxaHZlJSZwobbw7Ohr8fAANdKAgXycjufoIj6/6sc0NHjObPBIAWKyyuY+\n",
       "vpCeg12tdHdrKKWDSZd/b+ita9vy7rlj+6EtXr8Bg5qB20f3IlQConW+vtoLh5E58uRe9WJoKtxh\n",
       "spO3/bcdxB+EByiEf8fygdIwcotoUCmJmb+Iq78KTi457T3bVyX9/vrzO95Kvu60Zr37UVJkMfqb\n",
       "PtRMyrxBrmEnDWPx+NkfeWYV3ubbNF1s67n2BLAksj660H/Po/x96TFbbP5M/1eF2dSRy1z6lGHg\n",
       "ZwCwA0bkrp5AUDfbA4Fw6+BaRYswxLUxCV7LruyIYb+3EGh4fdWqwmRWlsgck2oqjfAAFKfulPiq\n",
       "Gwnh2LVO7o1sR1JsYYw6XXGjsW7DY+iC/ggLa2/Lwx9JetJwww2Rf/3bCEA4t7BSwTrHzsGBKFi4\n",
       "xoOeyHZA1vqGd6VPnw4Bzii1k/Tq964f1oCA87SBswN2aKZ3DZQwnxK/CsQz9WqGCh6/ZUIqGJdt\n",
       "T/7SG9pBcf+MGtOi8MW/Op5/51okFWp3JdRmKYKKrccTXqdE3EhJW4t9ZQgq+ch1jl6LU3Eu1+qK\n",
       "1EK0ByNKYeKTgABmY3KEh3hI+iFTLspoRTRUrp7sjQjVli1T83oAKjRca0p6JhKc/hai9AOKQN75\n",
       "+vSVxSqpZIlszuByDZx3WswBPHcSml+/4W45RormO5/2p4+DXcfxpFWa+zQCrxB3KaNUqvF7Jj9z\n",
       "9pJuFmQLXJ7TVcGPr6oHzgwrxJ/1bNf41hSOXMYBcvNkoqKCy1sXqjkuwgfb6r4LZD3/UdjWlBW7\n",
       "TpVA2pgatS+9ctUVZHDr5GxE3nW/VrU4UyaBpn405GgV3MRy4gNRuZo4wD0zLMmMOsxpJN/xdcd2\n",
       "LLXTkRxnM1WvYEGqtjGieLLOBOokNY7NYs6uZzHagRYkovlWzim+h7qdeTbuoP9M4JFUYYXzI3w+\n",
       "xAmVkvHncj6FlIzUvYdX/nuS3GC8KpBO6/ouEaJbtgoMSHUq3coAikV+ThD34OKB1EzbW0bsepgf\n",
       "W2np6u+qZiv1W8xeYN1C2XCiVEqhgtz+MkUUKNZoBQ1uI2oC/Q4pw2PxBb4CtYBiGNDtZ/CeL3Z0\n",
       "ifBocK4NjYPLoFVeoHcL5LUUBNwrZL5lVG6yTMXYlPhj26LnTJGKceiBTlzLRHLD/SfWeTeL6fNQ\n",
       "kxzNEecn+eYfSxcE1Abs0sSwsxnlzbtbcl7a8AeW+zPd3iklF/GlvyRABFSYQTNvQR6f+1idbXJl\n",
       "ssCzyH+PsYOH6kuf+sVeG3ihwSqbvl5/byMI4RyCzCF+CHx5Glpan0O55s3uaqU7htxnrJG3pVUk\n",
       "mv261aXADTB29oqLTyOW3GgliPaIK1LCEuT8dtWO4picgxYYGs1xm9yT02KEzwGbfur5t2RIKAuK\n",
       "dyB2M8DsPzrpMfYDHW8+x4d99xku7i14HGRsmLi58HM1QIf/Q+MTPg8Tu4A4bS+PHuEZW409j3N7\n",
       "zj1vBZ9et2D7RRHccbcoR5eFld50vik/eqmHeediPRGLqc88fNoLDlTk8s9WGXiA/QmDjCzPnqKM\n",
       "cV11lnWJ9L9RHWbPbatYgIRyhjJxU62rGUWcshkGx9h/2w5EkBAzJR9favmDy1Mv1Ts70142fyQs\n",
       "Nm0IBeEBd6Zq2TpZo1WEACdI7cOG5LBdUc0c6sMunNNO8PV/uyovhFzZtkX9Hts8z28lcO/wUDoz\n",
       "ZXzuMQZXmjSfv6HgwZ6GX7ECCRETasCOpHgMw0mc9URNfXSHU3bgH+A9YfEQT0HlGrd5aatut115\n",
       "IegqRIRQaiawESY79XViG7AgFgGzWvJk5FIImy3r9cJWuJInDuuSO6gEgaLZYWh7tJn2Fi+9y42h\n",
       "O/IDptymKMeg25kK0PYQVcgJk9bo4dLsnrE6/X3UxfCGOI715iy033oL+GX81urjY08NRfQYRpQ/\n",
       "4XDyq9rHs+7DYdaS9oCTcAIfH/1mrXY+l1xP0Qv4upm2lizjiM6czx1evxE5FzLCx51gq7uPR1Qs\n",
       "Bga47b5+WtkaYjZP1nJL5Us7sfAF1XjHIIyEGxMIsuvpIUAgTHYQV7FBWS2bRD3/DuwBZLHkyBam\n",
       "urE+K1/eIxuvm1faW4EB27rQCCHsJr9a+J9iK127nH32n6rNvyiZmyKvWkD0pM1XTcffQ8vwgPOF\n",
       "Ym/pQ3bcqtv0WlWTQVIpabOVGeHN3iOT9vBHwHo8aRS1UYrcMZ7nuWEF+km8KYsR+L8h1nPMf/ch\n",
       "GaP9smU5Aw+DOILcnsFN8jHU/+v9HC6pP4GVicuO/siyaCLTNk8qb5kGvCJ1d52YOKuWHFjKrZyB\n",
       "UjV+/hvKRC3wGGuaA3B7sm8Bw2kYOk5BA7nmuG4VMGV+G0xqj02Rczhc6K8On5+aDhwlZk3MEHvy\n",
       "xgMO9mOobn5FLLObSyFIYRKU4IG0ZXzBfxHHsSFAhEPUMRFuelgh3CXJXUX+Ab6nIc0ULPUTm00D\n",
       "XNGb80QVLiWDNW4GGWWyRYR/hlDvHN+dHsxVURmJMNsiN104A9wvpzfuYcdz9rSzKQmLAtL+zfxp\n",
       "pqrHaMzJF+XIl788jciXXKrjry0jI1tv5TxccEuhiHbjDKDi61+tLd4grRz2e+YK2jzbJlbs09Cz\n",
       "ihmCvH6OZCkRPDatGs98tVTbiN+QFl0C4bXdf5yyE8hD/bqVnScLz/4zZVg/NfYY1fPAZI3wO7sk\n",
       "Cpti1udc5vqsU5tg8FvoWv2+mjnDiYC7ety07rccClMjXyaAAAF2+3veuDVEXsv1IPZ/8hKpKEwE\n",
       "eB1v3rvNGxgmu8xAIb6ngIRSCgUB8bNJvjLcxaWM+QNPQLXEh7sSIQvqIQPQi+qRtyhp82YG7Iao\n",
       "RlSlMdsFECPHZ7K8VHl7maSfR3/x2DG9pU10TQx8U5q0tmGtnMT5c+f3QvpQH58i6nwSqet+c3cs\n",
       "vGhDjcyzSfc4zUyrUO8WBXxzVM7kVQ0BMIwJpstsKExHt70TVjZfkSamyX8FuoPWWCmRlIRaNp3+\n",
       "OuYhqcYu8/dsgdcZGblgCtuKlWvc6eeF5//OdIl6gX2Dvr+Yovyh9Enm8YUBf7etSRUkY5WRnnBb\n",
       "0GtsGXjNQ90BmU7VSi97e19n1N2Ft5PqMBljm8weGycdwI+RmuhmacY3YYC0ehjl49kjiADwLfJk\n",
       "Tky6xvGtZnOjuDwEkI1A3lUslfgd225NqwNhSyaqkiUkB58HCX/VdBBwXMXK0ssOGB3+9QsdEwr2\n",
       "x9ZZBjKfHd4KNga1gbwEWio2M2ElypwQAEcZqLzSDbaLQsqPFqahhlLK7GSD7DE0c/Nzs+7QmfcS\n",
       "7QSp2FcU+9G7NKHKuMw9waCuCQhG4O8kqc+/HQYioKWQo/YrjdK8tOmPpjCpGupi8/CqNqRa2nW8\n",
       "jWtTvUjJ1eT3LzI07RaMS4jTIweULQyjL52yE9oaq/m151nKvCYqJl9CH1z/HE4R09duRMH7e/vJ\n",
       "mZsJ58yeuiB7xKr4LGsRHixPSTVBGP1L+uebMclMPpjYUoXSXizRZfKJRVC33DjIz76mrAB1fDSz\n",
       "tGP/sCM/D789Tv8tYNRCG/Ktt8f1lwDAGPSn7tQB8KZN2+8q12jZoiR7SqmhyLiA68zJcyxJVOBM\n",
       "79xDyhvjYT0HHJURrFAIFW/2rAZAG9jzkqJ+ao/9Y+FrmMAak+dpc2VLEWXLoFXlAT50s65n31v0\n",
       "1ENTL++Ee2wMdBiv/a8CVNvor0Fjv3NpRRYIG2Kwyih/iK3ICPhMcHKS/bRJYP4nvU+alAvJ/zyP\n",
       "1ac5U+ITmftK8FmoaA/7lGvkpeu1h73h2dZo/fq5rZpqc7sFzq0WHysbEA4wICY8vRhAYzZkoibZ\n",
       "GjXxZemQAsGFHIbTRSdKYcXuS/6Zr9FB599u2Lg67YXtzamMvNXRBdlUroJ+/0jhFB9YTRW+KCLs\n",
       "GwwWwAx6/PFf5ibVbCa//ht4ocErDLZhFvnSF9146TRE97YuBoF91Lc2AsKphU8vYj4UWXKZ1asy\n",
       "dW6Mbdbs/qosAAEXLF/PPdvbOgeH8oWReMRbJQmVcHR1tHWPIw5v7GB8i5TXEH69jXUXAt7UCSrj\n",
       "+MAEhpHdRaCVWHA3uLa0+RRGO/c5lemDxYWTWd4qSA1mev2AQBP1DtkkDEiHlYLYhuaqV6V66wat\n",
       "E2hF7E4IPkj8zWd8Ijo2hphIO4Q+URHz07y1pgl6wPxxmF/LzIzV9rw00ElYDu0xlWEW7Fb02gFF\n",
       "1EsGXO6PphPoeOLtwCfqPXvjCEACqs8Zhfk5n+Fn/Ummelxo+4qzxdfcLouumJwh6tip2fCvk1gu\n",
       "erump6ypyABHR+Mi9+N9MzfoSt+XprgcVa1xIPQxIiXrhsFCJ/FSdlLIoW+bFtYU1Cps+nEPaMvl\n",
       "M51mLsrxJMopiMJcz19CS3taoH/W7LzA+5R9hwkc8sltedt9zvhvW7y9mG9gqIv0fQNEVZcxJoOc\n",
       "vGDqUf9M5726ugruSO1Y03Y2dOUoYhsD79gQTdLk8h7n+lmH61aM1Qbza7lLxxWFzGJOUN7SyPvF\n",
       "miRshm1UHBuMypAlzqfeTc31lpN1sMijqZL0tTGgoLl+my8dNclfxlnPl3vrJRGwgty79R6fXKpf\n",
       "yld00hSz36yhl/wvw1BZIyQcE8YV3FZiL6BDpzpQllGrpR0tKisp7+NSkAaHXas+WQQjsZQb48UM\n",
       "JWVOyr5VGStMnwQNHD2OTPFNpd+XaJr0AobD2SbPBu6TeV8Wpx2Z7Y4uz3zpe9A5S8ZOXD8tDXoJ\n",
       "ugfS2MRhG8WjNjOZy/1fk5d16YB0K9bqy2igIzkW74uVXs/tYnWoLOIPscQr3jEODbicpOnRz+Zs\n",
       "/GXfHLsewO/HYHOsc5xQDW/1z334KPGKUaQVm+KMrN3ACd2+MVw2304sGyUpjZfQ52tqqc4Le82j\n",
       "bR1u3HZa9nX1aFEe8qeuEZREd22N/pI85oZY6XI9OkflVmz2IBD3gAAAsDQny6QtmsdLc4wkuWJf\n",
       "ZPfL4m4rW8E/J3BcBZCp3KrCKgYZPYX/f57xNTeYQs1j7tz2+bCr0apU//89Cevkfxyq/yWV9oZz\n",
       "sojn0McajBcqx891qYc//9fxcIRitQgip7HomEvtCUzwNNrYslV5YLLYMmHq6WrxeqLR41aRRNzA\n",
       "eDqBp6ZiZORnOpJYLWGp6TpftiO2P7CGqjRb3SPoyy3ugegYtxr86I8k3G32Eg1RYq7lr8yVBpHu\n",
       "Nu/1OIEf4d6rSBIrycTwqoKAqY64jiM0zJmJ4Gd2g0I6VnDofOQUXS3MQN0wPIEm7Wcsr6N1YLwq\n",
       "X6KV6erNvVV4MLahu8FajmOkix8Nc5ldRedVge4C6jpUVKfQFI8kFtWyoFap+pQjz7x45PNFjtw6\n",
       "nby0fvn5DJlvow2A+6DIG+uk2uosNLMy2MOyHNFj15iy9LkrCFop/7rQ/O8lwvFSJ8N8BFVHM3IR\n",
       "VHQjas4qeSnTCkzGJK1lPebHCf6NONr8S78Dqbt9CaUygKwKclFfq+xNw2KmHhrBzF2/Lj14m/9T\n",
       "dniPF//6PtYcNjuW2hw97mysa2R9R7KxbCv/NHmuk4SWhfPoXSOZTEPW3KOAH2rahIbz/2Y8tha3\n",
       "7LYvGCMXBss/6qImE0D8w/idXo5Jtr2AhgoZqnM4AOGcAf/5JhnDDGGYtPg2cmojUVLtwB8tlvbD\n",
       "65YyFwqsi9jv0lRfQP6N3wWpR28n1SSA9SHthDy5a4yzh6AbFFb1RCWU6G9TqhE4ZD5BZpy6QkY2\n",
       "VKN3thDhimoxgEWq//JMH98NITfMbEBtXq8GZU3i+2AlBxX5nYoPKL+IJjtTBedWlLccSU3ESA0A\n",
       "tq6FhAQWKd17dY3teVUBbYM0vPP277qVbUvrbtkiRxnVeDzE4pZ5GGLq8quUJyA/PeZTJTR7xG1s\n",
       "lsh5Q2GeiV2zIUHaehigfSXGp+Dr93O1PNAN1dlzA3OV2jpaJyh6EaED80SPgCB6S3mAvMqeEiUR\n",
       "EEDruyurlNGFzkwLSPAHc/64Ksei5Sjb7jEGjRv+bc9eTaYWRKQ8Bb97zKE2tvFI9bT8FM+lqAqk\n",
       "cEd5toCtZyfM6VDt2PHfIELw2jrRmOEIz54vDrhVr0+/9h5oPc41m2wq/DD3pMPmAACaP39rbhiP\n",
       "/LzHJUcaSSFMHN5lcuRbST/ZiocYaDln+vg2PRDx1z5LsLiZ8SHDs9PbqwjBBc2cUV8ktn0jJt/2\n",
       "28qAJcKkktjc25Ot6L9lHdC12jX+y6T9Rw37DIOnJvAOO6Yt7gHJZIvU/BiF0J7IFMz9CVZ7QmUp\n",
       "QJLhCYAhM4nhjkR5wsenQ5C48rxr+vq2WMSnlUKZOdKqTL6bYtfxHZPwzlKI0RIP15Y5bosX1Mxa\n",
       "7cA3yCXElOsGfbwO2oeIxaBatbU2XuzONz9fKFgYCHX/h5Z6DMvAeySmGZGkRV+evDBr+fvoGGzn\n",
       "poLdgalRtyUa1zpbw7jdzecKRVdYy1Tj9vOobLfe0rfn4RbdnOkksQKP6nbwC/XQE/YnNduejW3g\n",
       "0CWFl8gejYr0CO+7nMS0ibT1Qh1A+/LKLZnVqRkKkyGgQu4aRwig+sJmKFuFK/eSiBv2/r3n35MQ\n",
       "xTz9XXM/GuFfig7K3/MjHEYjfQSczIfL8OW8gl463p7FjlXDbjPWcMzQ/KA5LDZ1tA3I0Yvvb8Nd\n",
       "aDJMr9IaYDbuJn/Xl3DHAZAKnP7Mpftr9uNUvFZTQ3eMOn58F9iL5XkAcIg4dg1OCGL7bwyvcWVz\n",
       "tRJxD1SiahyxGBxZkgGoDoJmZtKPjRq/95Onnsbs+PIVDPxuDWa3+y4uzTugKVTXDUJeMZkG1sMl\n",
       "2xwrarHUzLVWooFpLhaY9bfu6KPE6rItK5PWd/zkHY2AK+JQiE8aEtGecERsEIKRZMvjUUMkoPMS\n",
       "WvQQHzFjJt5UX6K8Pcv24+6JxriU4v3kQ90VrmSgGdY2c26HAZSYRKSRO5BDmczqG+Ah0nky9g7+\n",
       "UVIdCaRrVfBdu9yhFoG9eI8hb10QNGNifK1hr7zOWXMmAfmz2ykei2yD8nd+YHL2BGYJSR8ffXiH\n",
       "CoZyguUtelO204/z5lk8aGmlZN4GmbVfeZZpCr7utOwnUdLXztvumvlLsndEIu66wlDMR5cXU8+H\n",
       "2rOOHef6nyNpN5f9pg/IqhPJSz8X0UCWQHA5nnlY7jrSmHOuR3PvaZdVQWBrD2t8FaDeqtH3s3eg\n",
       "TLT7/CGrJQuK6whmSt6UKjgPRwID2TtpYRjoU/Fby3/Bl6fzN8StRsCgwKq4ynYVmPgpnNFb4suu\n",
       "nOMBHR03YYGZ2KQlWfAooyE6wFyPwGt8QHH4pOBjv5ScbGKIDYdpyoY0le3qE79vzW7AJwMaA2is\n",
       "pLWLLT9UE+u0Fkt92HQ/6G/ysHWjFCoA+XB68OTjWdk4Lu7D3yAih2dRsOoaOHjIFx43Gh3NHyC/\n",
       "KmZX5IhppRJct/e8efQjD2Nm2lh75O6Ok4ThrqVDInnM242k6IwoFM2O35wVyWALhOeYf8/dZ1E5\n",
       "4VD/SpUyxKczBTJc90gpkrYpqoCF+zuAjG/XEj+a9pNBl8EpRhi0i7ejfbDQEM0ia/KOYD/kX6Si\n",
       "EaaSNUFbqSUSOUASjV3aa0TRqZy6PrUAib/+ak9p+IA5PZ3D+QlXmbz3H3jL7VveceenpgcFr0BB\n",
       "+bU8rTFHMna8K8um5rZYRU/olsOCWEn1FyyP1z7pIjxxhP4HouYpNtEvr0/yvReLHQ1nTLky+8z3\n",
       "IzBBozoxxKQgiWAT23MiJ+WLLOxmU6K4G+zFNq5oHkChOhUhuiaYX9KJfg+wL4vmmzZH3M3UnsBT\n",
       "/ATC7MlbJnd7CFkKLF30aex4k2HZyuyvsjYK5fUXT09qJptmfmVcMFycGlby3RCJLL4Cv+Hqy2Ox\n",
       "pdTVKOOA2fqx3tP0sW4bDtpauroKP33iNkMc1NmHI4Gbs/c9TIDHzrpLnv5vYbjRpJ60rlUdsbWH\n",
       "fbjRlbTnmYPwZbFt/Ai2LLBsoSXqZYD+jE5syIrfGajeeSk5eq/ytngevWy0q+ZNssg97OeGpQRR\n",
       "i3R6ERYi6sTd/pvWj447Lf597jAde8PVUKPsLRVPEtSUxUsqzqTk96lOGVs51AmykpEcAvZ1S1hx\n",
       "9KruzqOmORWFJK4+68b1tM7iUcC00vnbHb2qsxHf+0mkB5X1MnLMans4TQt/SY93jXhoKq41UuB7\n",
       "FCcwUv/bzgvdGprctMSMG+o7dTBvLjKhMcB08IgXtJ/bMO1PGoBONP2vr9IUajO6Xu4uMl8G9LMs\n",
       "tRLDB3dd3QzW++mR7pKqm3J5Dc+pxyc0nhWImV3tFxHah/UM6zM+OcJADYqgkcb3zEZFWn9H5Xrq\n",
       "1Afn8e6eBOmzg5cyRCi8SkzTKXkG22qbn9TPA5njS9Ts5/g/8vCYwX3Ncy5a5VelzW8XR4d/PODd\n",
       "6obLGWc3/kiyUeYaXhq2ZIeIyegIX7e4Dr/e+sR4GLzuRd/DPusHFdm+vxdB9wf4Jqjzu7/Iz5UD\n",
       "VEFo9/7gxNnltwSCat5BBABVcBT/giKTXZZZEqUirAdE1bRQhjh1d3TLvcje6wQOD+/+4uKiBeze\n",
       "y/qLmPWPI9xgl09CTQXgbOuPcEOJqKxrRpT+KHgHOfSIncNEdss3Kwp1NkolGwPtERAmk6rm4Xhr\n",
       "oV020fiTJeWZNkczWvbRvjFYjVXvyzYGk+mnKv0rVjXTE/OPvfz6nkIS1eonGcpc9Au4HjpDeWZN\n",
       "cG52LmBLtNT5azgTf+wyT8EZrKT4MOEWDmipS5WqNV1WgjHzVo494OCcGs1PowVy0GOqpM8y7cm3\n",
       "2PU+8bC9Xh21j6mRvlflLdwY0a1jrBTyADvedv0usOP7UcREGi2OL/YAzT7ocFKVs9WVjyWSPuaq\n",
       "EEDt14JjXLDDrEnAh/YxUiOgMH8vlmXFx2naTlvXSqxlWfWXRbOBkiE6hvLbI0Xet70hRtOUEdIK\n",
       "4CqoUYB6YF3OZqBlTS3rkFUePyQa9OUAz/w3de6xJF0r/2n73jfzYRcTZb4kVVySlkfp+NdhRJAr\n",
       "LTf1KCr3IyYlhg3S+QoHPrnYuYhf8doyyvcEos6c+XZzvSTs5b6JOwKcPmJPBZoY/A/xDmrdc68Q\n",
       "QHXqltRQqn5VcaOO/HxBWlWfYUQXMsjAp8wmMfzdH9rVKcVBo+YTfBbK0JKSyJN/9KXT0CVv0esE\n",
       "EvF3mc+UUKJRIPrgQ48SED5FaPOZURrW5QL/yubXM6oDfB+0Ms2A/IFXHKQgTEIIQARE4moZju6E\n",
       "mPnBnwJM58z1AAM1NnGBBc8bu7cjt4me9nH5AoyjaJF2CW9zr//EdJh0faUPVrtWVQJWxIaCMP4p\n",
       "KAZ3wSyAqCWv6R0GCAHwlqlMgf5P/aOZkXMoLn0faE01bjqVk72FTb2Uf8AV3xJxjNpVQQIxtLsB\n",
       "G+MkceuGD+JP33k3fikBHizk3Cr+dWGqOoiW41bUHbH31D3R1mV/yPKcykunKQNNGS+7soManuER\n",
       "0cGo/T7+MJWFI0v9dovrKSSe88q/WBbS9J3Xhbj7fKg4jlrUjSlbRaKk7EMm3/bprrBarMpuLDfj\n",
       "80Qoek0kLe77CPr/XAGCLVZi6d/fB3mEDNMSllK8XVI8dp4lYj9gID0051QwqsBpA6mA27dEGK9X\n",
       "GtRP7Y9bHSri3lKj9NTrQqJxxGWcnSS8mDxqnD9WwjyjCDp1lmZSfRF1TjAjbs5AFqn/RVBWVIE1\n",
       "LyuzjUGxFHm/go+DBO4eal5wav9qMGB0IaqJjRv4PvffY4d/0i5TTpwXT8+bqNGkV1r6AKtsq3mg\n",
       "q/Q6/JcqHfHKrvvfXdtJ/VK+/ryMx++AmYlQi6giVi2lkOOj3siSDEIVhMkKfVxxQ+XEF5BUbM4P\n",
       "eMK68cHL45c1rLf93SYqAbYhqfdD9W5OWHPtgArX0IvJBT/EkCpbJTPHSJZ4ipZqVePxrT13SES5\n",
       "Qvv5R7UZQ/XGoqKqgdQ3h2vHdIGMJqKBdP3Zl0qHB3F/AZmRj8CG2K8unhAE6nPTJtd+XV8vSRZz\n",
       "dWQTWKXgHOvYLBbfia0uG6xAfp5uvgDtGw15nOG9XCAcoWFGOnZgxVPpsO2C6CtwZpjO+1KEUr01\n",
       "ss/B5jFz6aQThhHjpnOu2PNeRRWjmSJtZOr+KoUY1/8NxoziYI0J89FYwUAZS01ujrwvr6QrDS1W\n",
       "msjACkKQ8WQpdGdD/hjFAQs3a7sEUhK392MJ/PlDM9C7KPzbbtYy45pVFj6b0C5jsOYqCe/n2h8n\n",
       "rlAN+3lLkIDMz8ei7+WnMazorxTo8iDeviSAHLtoOGlJm1Egaa+596pTbQ6WC97axwDjKkBUe3Ux\n",
       "m2q9zGUfDYfrH0K7pDExxCLO+R/gHyYWHburgM8fr2buzOQA/YtJbrA+RfekaMiu3nA/zg/PmWG2\n",
       "qxsxkKctYKLnmQ4Ixoer4VMeC4CG/Cm3ER7LxZ1nRPC39QDyLjTv7Bn0MzncuQKZf/roRaqreR66\n",
       "OX0buwqq+5/BJyY5iZGWtZdiB2+HwrP8+m8salJ7N4FGt+VcsWTEgW7mB93AfC9axQT2NG17FHgL\n",
       "ikvb8c5QwG/5UE1MapxfA5OzUWBB1PaxGuv7ijKzDMIGGB2hQ+EMCEYa65ioB1/DrZRNpC6tvdHy\n",
       "Kv/03bxAn6H2q/Su1dyJXYFaaw6PtJ+KbSx3D4Syz3ByDx4QXrdXot6VNG0ab5rWcoA+x7UFll10\n",
       "YQ4jgUPL8HOWEKMPQsDIFzjYoNSsXsrVX+Y9fldR58Jjtt3gOho8gnsKvBTWM8xY2dvynFzGMUfo\n",
       "FUaW8Ad4Ljgx9i3ztNL9MAGxD+2jtEp2SOF8rffx9TI5jRRtvWAqT6f9DVRbjk26uAEygmEGT23l\n",
       "wWDVy+TfoI5xRzuRt3EM0pt6NhXZFZMKUXuElW95j9TzphYLph4TIzBq8vUQU2Ch/j5yyFKW+uUB\n",
       "/zq5nAHhdMgVQ3IWNqE5lWbkQutQSfI6M9MU7Wa5b5EXr5MfV8JriIn5NwIyY9YV/yCByVR9ZAve\n",
       "3X3z/esvdGmgnSf0DEq5PfvVi6Vk0sLXFRAvZvZvlCeIp5QP8Q5psLFG9G/xH57mVCfiSZEFxl8U\n",
       "MglorYI9hxmMN3IKdNjIHfNHruL1aR9+mpgx8F8pp2So2ItP1MeSo2Nn3nEa3RX+8ZVUaqFSBRRf\n",
       "B2iAmZU490ALP9u5ZKAx2YUgOJG6/O3BKmaXw07RDgEWXTi9gvYlJc0vNYDR5fJbDoUUo6M93AN9\n",
       "5wfvfuuGUDKBYf6MZ1vBOCUvbsUTda+x1VJc7Jy1xN4cF7xtPG6v3r25f31pNad/iBLcaG99F/bz\n",
       "0D7x7YpJDQpFRS6h1Cjnav/CuRjUFzNdGx1hoJUvcscc3jfYFnUqh2QOjuSfYsomwJRnTuFLzzDm\n",
       "lu2jwypH15/dKKGwQdRJ+aIkBVIAEZf1XUIwRkT6D0pSy7J7X4THLM9crVAF9WUNjf4P4A/LfvR2\n",
       "uIxI7AIzpKkFr3+ji0LDcaK93XzqH/sUqL1oI4ckaI3x99cibGNhw78dbVBgUYLeYMqnMxDLDwRZ\n",
       "wAXE6/UYGWePbpvpMHia15V8AOc9uuX966rwZMynddD1QVQUUNerkAa82mfPJRxUXRFj2KAeN//W\n",
       "DZ5qIUVNd0c2zgeHBzpaF8nc6rE2lq+k2c1XuviY+vV18zkJ2AU6NFqukT6oh7AlPRIJciECiMgS\n",
       "QEsZ4TzIc6+gGjRQqaugWu0JBXnVDLBhKY9twnXCyI/7mUXs3UTWEbpq9HIgN0Bha01omtP+5mjl\n",
       "aHv3zVVl5XWDhEURBimMl5tR1S9dIm1FAADFQnVhNAAAHXEAAAIbQZokbEEf/rUqgAoI4YMALBcM\n",
       "2lF04N3H78mEyIRSzULLrG92WB+W68qaucaSwPe86RTOoJR3V27plvYoBQbl+I/zoW2ZindavACX\n",
       "4oku7KO5OOmxqL8VM0qZfrkdW09idwEE80d9tusClMifLWtVqdhxJl/vLzOUsOJXZIzuP+crsA2+\n",
       "S6usYUpigNsveGJl+59g92Vc86aT91tVdouS0enTEUPy+TXu8+Z7Ms+Wv8I65LSSKTRmzwCCPtSQ\n",
       "YfspRDwKJ4LtTwGPvpItqEMEJMcJAq2ujBOPpZ5thXL81PlmIBjmsGSEvmZzPjnyj2kM1neKNk89\n",
       "AC/FNkzfWPGwRPlD4XGDOS+8no1ibl+4v+mpgNZLCTTDqvCRrfurx91cfiifOiOgUBgOyh5TOCtg\n",
       "eAcSw6A7SjIs2lNqd3i+qkx8ANUrNbP/eaKilBuNwBnbh/uB2A6e9LDoj18sBjRl1LTJOBmv3UMr\n",
       "qFu7X1IZj/kxslhbLZfvBoqhpo0mAsNxSRkwe421wsbIBnAX3IKy9WRBfRTDwUVH75k6HNc+6bdh\n",
       "Ci20AiEj8Y83/ywsNffe5MLRQHa+nuAtDw+DiGGvj/myh6G8MoQ4IifSj9cuq/hqcOhpgGd3tPVk\n",
       "FS/HtO4fMF+vflmkn9ver55w8BG97uhps3+1rnHG7VkrPQ2ov0PJbiq3uLGSmD7qMAV7lLmY0Zma\n",
       "OD3yEKk47oAAAADwQZ5CeId/ACcOVRtUR05eMAqACc8Kjm29eqbRiUWxXNpJtpVSPWrEyO/xPTqA\n",
       "BFZZy5BluVf9HGvCJ9clvAqL/P622TINLOkC84KAdhxC80Uc/EYlX/uA3qCqkjWN3umUO+Rt0md3\n",
       "qn255nzEkuGXYuBla7mpLmVF0v/8cp8P523bVao04Z4GOjGcTs+YGF23CnIVPVzjFUbR+CNq3Pwt\n",
       "yoKmQPq5sEVAmAJHDvfnvmAiMKQCLQsvfEuA5uNdQvkYz1ddMCsPrkeF5XW82nk5DLWxlwThyzL9\n",
       "yhoaql+AkCoO05J3ciaSMtXiztY0kDAXAAAArAGeYXRDfwA3PWiI91ZD8wAEQXlpSurMHQdvUMxa\n",
       "AySlesgBKUpJP6oEPP0Rtta4QVACWRDQZDBkLi4ceW3HnzrL3TZTpHlKKpQZQCDTAGRg31mF9/e2\n",
       "b0xT6Jz5x9IyZs1sa4KO1+PsmZo2z7vtk5s/qogsG39zgOuA8nsDR4BvqueJxTKMPYX6R6pO3LdP\n",
       "l41lidOZ6goLslnN6rSdeZE/CObk706klkswsLgAAAETAZ5jakN/ADGfZXYqISi5dAAnaCBOPQNA\n",
       "sTHAGwpd26Y0/g2oMqc/Fv1JHEBar0S3foE5+Czq+F2rOcJjuQuJfQAAqDjQT2NFPh8ozSszvPl7\n",
       "Hx+x0EIp5Q79yIBD91jobTHEjGG1vywgVQ2ItMZzxK242v1ZDHGhxVfs5J2vfNJKDloFVUY8I5If\n",
       "jjLIM/zGDny0UaKUtIJzawCPbJOXj+rUIuk+KAEO2EMKrtZ4RvAucuNNgxe/GeNr/lCqseFjH/NH\n",
       "HNLM3sni+KIAMd6rmK0mPsGJ0mYKDv0xrJohDyz/iHfDlNnoKu7YJo6ZdL31wa6DlBgEk381b7l9\n",
       "+Ks5w78f3LQvtIS28XrG7jbfPesAKtkAAAJYQZpoSahBaJlMCCP//rUqgAkJYBKAAbVSouQFaPfS\n",
       "hXsRRkd2GPLLkCvXYTvBVQ0hzaFUbkFV+aqwhBIhyyaicAEY6wN2Isx31sivVXzwSTl61uAcNehh\n",
       "oBbYcSeZqfL34Ov/K2Hp9MJ6wmpY8dEsVGVmiaNEADDSCCUZ5+KJJ/wn8aTP+I7TaS5gfxRbK3oE\n",
       "c0nP+oODp5o7ykQ2hQXACllOuoJHYJq4YWAjNzCAx3Q5JNxJUIl3JZmI9cJfVt0qqXUyHJvRA6+B\n",
       "zbJKJBAwU8YNDkVYomzpZf7qX72XErGjklfKDYWRzUqYtS/6gmrHwdlWZgUeO3Y2CrySCOLRS7CB\n",
       "sfWhADnhzQ3aXUiNFuK9V+8FEt9K6xUlMnpokYTw8gPyD/TFMcg1AGdV3nr8mWxU0GS6spNTRKYp\n",
       "X32TG/neGExZIZHpysbQoxZuMe1oi3J8AgYblgm7fgL7jMe/nN5b8Zh1dGKDz8AIlK2FUaTiYyYy\n",
       "7CY1UNo2ER6PHAPDHWMWL/lDplgB9t9P05ibpPKmA4eWmDzzdw+RRI2Y3JDjKxdCnntzrfK9Hjfc\n",
       "4Gge6T9eGyG1wDrJ23bR5A5gtB//7EChqyQ9aIgSwDe1whk0pfPLvTjEDSeJyLT1ghfGWKJ/MoXw\n",
       "Tsac+EmjeBQP3fThB2Xp/GBOGQ32G5qohoUoEsZfLfayaOj/k086ESfuglzcBnM84fFzRq70fc6G\n",
       "Cfm5RZfu2V4poHpcHFWDQxFbsqQDLPqqEnRI+BCC/wP2ijuhn9sYdrstjSN4vRp4eb0ZT1AkmXLx\n",
       "AAABykGehkURLDv/ACMICXYSADamKiLQYgof95g9yNm1Foqh3jeWjmR2vuuRlwZUQdJhabz4bdPh\n",
       "ljLRDFYNj+QolWoZrSc9IXpA2fq2DxjZv+SH+EHCCIk0TMu5ODGxlyI1GEwZ5O4F09XrVvYdfpJ6\n",
       "+1sn/KCl5m128v01t1sK8nHPho1oQyxhhSlJP90XvmmJ4h8CTiuYCIxmAs5Q51vUBS3b529QPICB\n",
       "5iP1FjPVD3NN36hqL8NQCf0TCwxjNODu6SNwhlxQ10ZNaU3lgFjWvqKpK0oTaXXHzLtvT394tGa8\n",
       "j+UJaUFU6XemA7rsPGGZdwFp2Ax/BL5XiN5pmgYrlMNhvazTe5y2EDjfenBitdHbrgMnZ9m9ZobY\n",
       "1Ii/N4RfAWwu2iwdyVzWdc3TeIONldZ4fjGjY2k4llyPp3h3sGkPnqYGkAYryWAeK/Zb/bdp6H2d\n",
       "VnOTb22mAvqdxtAHgpxkzjPyNBxgk9O95g6XWkkBekHmobvZb19CbylgiKwjCLThMR6zSSGGdJUD\n",
       "zVjMlmd9q3nFHN6WlC6sZ1dAlgUqW3jU3f2AZHafpiVQLi6j8ZFb7KdZg8hknYpv/jPJc2DKYFiA\n",
       "W9mEtEHBAAABcgGepXRDfwAxn8QL3luD0AG1Vn7l2mzyblW2ylAQ5nvr6o4GuHC6AcTyi0v8lyRq\n",
       "wgltOAo8kVVlo3hZrX0vq/p4w/zmyXtna/t7M3WJh99v4Q0zsVWZ67dQfadMwj5h+2/LSTxw/HFc\n",
       "TJBGA6k9HWMZUewA6VXQwAhRwBdElDcnz7cSvCsWTmsb9fIc3MpI0pMY/BGCv7y26W6rXBLIHaxR\n",
       "cR/5BLSRTuVhWhRx15d7K6Al08tiS6XxC4O/eW4lDl3ovcu8WPd8Q0kJoMr7gyC4YVuVu47y7T/6\n",
       "HolFSvbNzcDfnQJrHKpqmTVU67uTzTtqflTKANHJJAmeKBrYUKBTMyWPQGbubgo/rhfsB0mD+tzv\n",
       "J/f/2fvzGjoHidjimTB66rUM6jIFo6di+gHqKK+kre2zaa3s3k4aiCt+1fdfE9O2TOKJKUIaQois\n",
       "4+MS+8AExo4kVg0GOvHFpyD+EZqwEKhwAJrtvGMkq6BzkQlBwTcAAAILAZ6nakN/ADGlPjylM4AQ\n",
       "pn6H/7+DiCsoGbi23x7oA5VBl8VOpOzty71lUXdXI2CHb8zMgf2NuQ/PJbpcBcg7XVFfhOFxhGmY\n",
       "NZ4kp/BW58Tq0C1EB0Gmkbs4guimDPZiRXzixV33cxlka31JIW9dP2YovRi5rkrhZx2IwjcUjlIb\n",
       "krK0fcrVm714baOyhUCmEMOFcvEZpLrIbGsCC5CPpDkiiOVY+cksMCVsNthGc9s8bMo4pZtzhp2W\n",
       "Q7/Xf37NGAPe54+/CVenu9ai/3FOT/wBEopasiSMhBKwVZF2N/p6dOUPLHj/2aci4b63ElumHzTK\n",
       "17ZLzLM+xdf79lBff559Mi2O3FbXd+jcWvtpjl8a0zBPxNcLYBa938qyJBJAKgB0yhvGDUbxe1l1\n",
       "y2B4brMGELshcC6qTnSGO1lRm232fzUxO/h8vDF7wv/FMg79ToSJmZWSB7K4sq1MPfo8Hx19Y+7v\n",
       "Ua62m1WkUMbMWqcoThT4pfEBWZMd6o8pybFIpMpnmDn+VE5771f5MnvEbehocIsk9i092NmbSIuP\n",
       "RE33fO2reILpoAM8IbVATEPhkluEkZ8woG+J9DFcXyxdqE++DMydF/l1q6c9hAGSmbAd398UIpe6\n",
       "E2RIC+XDzP0D+TVM70aqMVEKn8yQsqJp9WIZTeygPEccxgUk51H5FwfAbaTl804Dph0D8gAAA7dB\n",
       "mqxJqEFsmUwII//+tSqACyjoreD/yhc22jkZsWeTv45DQYALZsv5eBPxcQwchtQLu03q2JOw2PBk\n",
       "8ku/N+F/YKPwf7L+6SMv73iF0TDozM1z6+gWkhJFsrpEYd1QJFn5yVKPSrRfhXiq/DetQELsOzCy\n",
       "nezoSQXKaTVmlotF0T2xfR3BqqveCXNjVYRDm8QO1SL3vq9/6hcliLZllfpXBA1Lwu3GBdzc6//1\n",
       "K6RkRJ9m8X+Piy57utOPoFQTwrSzMwp8huCB/wrQBUs+rv7wG8zDpmSmfhfparLOSsH9Hx+MaiVK\n",
       "RCfKJkIZYuJf8AgWSRJi8TTXCjC6ir3wgbUBIHHdi64Xbj5jerWnYeq1k+dqV0R+vPTww611+gof\n",
       "xTJBS/qHzFa0Itdvg2u88Qu+wlf1Mn2ZGqPaubjyAc46gmKuyvvHfLcSJfdhkEESJEMaMDi3VqXD\n",
       "METZAxAfHG1G/0tQ3XMIM++AJ3Zx04tkKZDgEbl0ZEbdGaFciNEXo7ulWKh4p6lU6HcafjsNEKZQ\n",
       "Evq2bPFm0UQ0jKY/Dm09FXQFdLTMzoTizsLmIk0hqKa86X0XClv0oKhOoUwAhOn1D1E/dYqnErS8\n",
       "4afRU7QY+prURL5217+RHsrg8JJBrrkAdFJJGCcJPmVo4j9HQHDLO2QMsUypxeGz3s19nj2i+j/D\n",
       "q+QejgtHytOJizFdeTuIcWqnABq8F9lZjdAtbxpI6eyooxHDHrKqjv3U6XaB7KWxIKFwAzbgQJCU\n",
       "5DX2xjMh0Mid/eS0NrDr6C4rEVZJh3h3SRNtrEpxw+qhulnbPQfCGeot1LTqy4fuZzBeCVPrS/si\n",
       "ppf2YLP6ZhWY8RaiEbDBJ43aOfteHOUS4ePgjnK6goPpDBpsiWcLg1vHKBSevfZOkJY/V6oXZ1hJ\n",
       "Wd2N4StcGa5oHTQXuI5FHHo4sjbywgLG6etynKTAqWciQpkXNBfRmiBXjmBdwvtiQXUP4myIWdtA\n",
       "+32PZ9ZY37A3p7BTubPgE4JJfTpDUZEbdcmz6/gkjqUBP6378OgSI6TftW27gt1NIDtwvu1ZhwwP\n",
       "vKgFdmFyZfXt2yXlZBOB6EiUo+lZ6s2E/UsW6z2cnPpaWjvN/HS6O+ywdrSu1G1eYTXO0bi9V7vh\n",
       "lW8q5Z3/ES5ZP5jdNucOTx/5E3C+n3aKIa8i+z3Lp8ffAb2aJ4C2DsvV7pCQwlVNrwlB9u+esO5B\n",
       "a180AqqSznejr+grgmgGO/MfOfGwaoT1juErzhYH/SKDvRKrtRcAAAK3QZ7KRRUsO/8AK4YpuV6j\n",
       "0MGyL/YaMhb202dbm7p0/lQAbQeprXqF421uhF4S6xIyTixE2rOYLezpLF+NxUXNQXFhc2EmwEjy\n",
       "fOrb5//tP2OlH9oLnc0WwgGPmxwU31+9f4D1hjKBdjfFXZUoBY/QfVXEEfjWINhuEZaDb3KK2oXE\n",
       "UY1A+puhJSm+7u8IRlY5rB7E2d3goy5F3x72JkZNLzgFvai9SATwBNf6D5ET2ShWi94KeKvYkt6c\n",
       "GHn2IVmoQ9ddM+wsrquNo8C2kmg7WQLYFodP0QbzxkzFl7Dm74NLoHBBIxRk+BWXaFPZmCgr8rmd\n",
       "wI6NcKbWvd0fS9xuuAooyMDI39rrOIWHcl4WWE9TYkxSDNjLoILPba+wI07pjTuchajnbjHWTzXx\n",
       "lH6aVJmnZfBQAZfJ0JaATX7uYTK2npZX0Kh5dRVob5wZDbvxlSw/KLrtT3L/ELwRuYQvFX3FELfH\n",
       "czwsIdEqbh1btPHLwxpMZ2cwfVpOToASi/gJKzG8YL10WU4yk3v9vYznAgtcFSN6LKelpUshHgSq\n",
       "+HfxIzfABaoj+WH0xHoGwQaMWHK5r7GdNv5JvnV3GfBUpSB4CHT6Yr8xz1VRKWzHZOPE5OY6vbXp\n",
       "gaHPByRlsS06GZ7vDwLD3ivDcVDfxhJVgTmbDiHTP7b1eo/2Ee84s68BHFfW0pSWBpXU1V7UQrpn\n",
       "aC7wD/K6hfSnyLq23y8Ta3VsiurAHo0TLus+F5Xj8NN2J5QDki6/ut6lZX8y79Xf2U9q1zpoWOan\n",
       "/mCN8ukegu2h8dYKiaXcR6kXVY3U7/n1mZSThnzDFTNxjCcxGqsa7AE1stSg7Pdyd30NC6QaxY2Q\n",
       "YqHaAAE71MRrZ9+dhe/raR3neUSD4alxCut0agEhp+4AjDp5N/kulmcApKp3UsQRVr4cjFkAAAKF\n",
       "AZ7pdEN/ADzHvaxAUWIcEAEYsTQOhTg8ACIAxMkqPmeubfLc5QPoVDqHge+oHkp1cO6ys2fu/xdK\n",
       "fwpI8zaxVFCuvCyJJEBLi6PsZ2VYDRNcJE61D/mgfNLFkcW1X5KbEf3Gx/R8VqWOnKw6NN7/L5BF\n",
       "2lFXnfGc+/QXhIzJQK1U+nUZJTkOhZBXil59bmXOQzxGkfF0QRycdPPOHQ4KwRMDgnE+DBgnRT1j\n",
       "mUf/ilEyKJzTtRogxfD3vxjvekuU0Vclk48fOdKnJ8BZVPJ14l9NwcBOAc9Oto6ZXlZrC7E7sdv1\n",
       "NMl0q/58HeWBXUmbAnDxtW5YrJOrgPA0u5llJwau1FjufHw4HFeOIr8XkdQtT/rnF4/sv+tlDCFK\n",
       "hC1o4v7rWianqcIkZAn0uMPCU9llZiBP8qgayZszNYKwjhbLKdhHDUBAO9pKQhfKXtObPWNGFhSi\n",
       "DInrXzN/UHvvNIf6uIC3RLeV2KG/jsqZr4xn25TMYsrVovRLkiGG2/03Y/Xz4gVGBonlUAxDbBVr\n",
       "Gnsv9YLk3ARqeV2BOf+eS+PluR3m709D9xXMyWHglEk8GWk3Aa7CK/AlfAXmnmhrLuUfM8yTsLHD\n",
       "1N0KfppvA+9+YJqWTZaMpNLvsDBH7V5Wa8fy+ORJHIV6cq2Y4pHYgsnZtOeR5IgzjRCwkhgPON9n\n",
       "io5DA9YmGHBbXsdTQFvPkcWV+DXWJhNRD958LD9kJO9MQkwKv7cwkSY+se7rB50tWkp9pn2bRyl8\n",
       "Jp7VwV1zVMUe5b4w0TvPI6p27fNsV/51C1/OZszEe0Khkuol+6EP1CgaYY6skMu7lmnKhanySyss\n",
       "7OUhih+fUWqufh6Lo/5Mtq7gAAACnwGe62pDfwAwh1M+rTx5agA2k4KG3lGppidS9QGLvQBUiDYG\n",
       "XuUT5APn0VoNAfE++oGfzG2XzioiWhNEQwbc0UOoqkE2ydPr+j9CAHTSZkwhpVlLC2PmJbSnwYGN\n",
       "XybRz6JK/hDirXu+h2T9WNYDrSvpmCGXRnlNp+VE/SLZIwxT10wBhaipOnxNEerIdGnQ3suap+E5\n",
       "oycAyenH9AqA8aDjSl21Se4jBdKXKk1q8ntXh598pC0Jg1JOUv7f6nOXfBGyKkAwN4BakwxONLAE\n",
       "VI66Iz3TstNgcxCbxYszBGFt3cBAeaz80SIADfKicZ+NkrjgEtLp5G+ZuQ0FstXrzV++7VJHbFeA\n",
       "FVTP4O2e3KwbOZ8hhLUnxkQBNGqXBTrGv+xE4McKe289o9WEJUam0Lg7LUYBPhFBNInqzmLdBhiQ\n",
       "Vzqg6Pu8yV+kBmcrUHls2lBJU0SdJRleY022XWQIi31QfrGj6GajgBpyZBoTfUhH6E0zRsoHTGMs\n",
       "wtNwIF9edDdHKP8W4+TzW0OrdYzLq0Yxx5vt0W6zf22pbaQVuWtTVudSO8AGrpiDVcaBIOXKxPF7\n",
       "1L3kGDLqkJ3d3nJtAHr3aIxxmczLesw03bWjLdrS9l0MEMqeA1mBQ1+k5ifM95rn7No79U1w5d3B\n",
       "42pZH6OgqTunWhVn6EPx7TbZLMChzA5X3FobzzBXS/o+caQ8U5wr8yyoxT3HD5ardRDEtThwxDix\n",
       "q9acN74KE+7p3cAp18Aqrs8Q1M4LVwnE2nehFFY20TeJFfT4EGSeG3ACw6F/25pyw31zlZbzk5gZ\n",
       "V7M2XuNlZVzHyxxQtNfEIZieTSFI+okK8kL1ZU8Sr4i03EG02uDcFZ9DfJy6IkFJE+Ip/gi7Ltky\n",
       "SheMChKDxMSMAAACqkGa8EmoQWyZTAgh//6qVQARj3KUJ2QABzTxU2NiJB/X9kyRx8yOPu5eaDIb\n",
       "RRURZ7/5rUK+ZU8dBY8olGEORQntK24STdQbf+h/LI4eV+KvHvYQZgjN4ELyNuS5szZ7H5PpUk8v\n",
       "oaKnGviZr562UW4gXcpRtM/zAYy2pMU8dLvg0A1iHaS+oK55z7wJprRjPXfgZw2eyoYv8Xxvr0ot\n",
       "bRyk+OL1q0d8o5H/acLpq+13lHIi1WEucIkbvOmjD1tzlGO6XkyCiZbac0/Zc4pv/vmwrorxRr3T\n",
       "7gMIglIY8MY3A5IvGTAQwTTiZsoXaxn43NqqVWXcBDgfA2YW98+BKgMXtyaZgoFJAUTGK32KPbAA\n",
       "DLcsxlNxYfneLYFSyRvuto5D+cx7wgflXzxcqt2T2ICNHjYJuZup3R+ylYFSEpdY9GPQDR8dzI6Y\n",
       "KfoNfZjZZoUYn7PvfhQUukqmT263UAL2+MdBP/RgWjyYIMJ6ISFYDjWpJep1BSIT3Enusp47BCE1\n",
       "O48fa4zihm6mCUWDUUWX7MVmoFKTbR7W6j8nYnDuqLV2aLwbJEIZ/nHYVHoTHmvQ2cZTVzXadowP\n",
       "Qc7f1ziNLmfIWjIUiDadAoru3oTBm8MpB+DckGvPHj4rIWaMSaWEE9h4Ox1ocU+d/4M0JAJb93WM\n",
       "8ax6Rf3vUqZarQbsfCaDKcEmhVaWopWXG9EtGvy4RYLQlajCS01c+rD53lWX5EfyEF+1ta5YU5R8\n",
       "gW63El3mxSQ7qF407DUbCmNjkzCBoJeuVp7pANIOkvKfW+fpO1vuzcaHf7iPNgyQ91gayhEoeM3O\n",
       "aB6YhUKKhV73Nsvt4wmlQf8noGSUE5UQf3U/S+FD2vMhM90kUK2MCqgvzU7bW2VOaLH6OeMads5O\n",
       "JW7UbQQi2aAAu4EAAAKbQZ8ORRUsO/8AIaLC5TyRFDgAF9e50IxCyO2vpx6bw569MIdWDV6zMGYf\n",
       "UiVja7XiCc5A6xyqzakGJURk+F7Zit3Gr119RAO/xxmXYHxTtkTrk3soXsxwV5/xluy1Ihsd0nW2\n",
       "uQoeEDPnw8XOl9qT7GfXQQhf8wn+YlXGaUXC07GsGahvrzNGrLChVTcj6KsgkZwd36P0BMupyv34\n",
       "ih5sTefItvAHMuueQexphzBYxnHc+dY7T6+AoA+j/+Aulac1xEu+w9QwWChWoY1yd4X1MhX6X1cp\n",
       "Z6HzBY7GrpxEjmeojNC8cDB6/PQSHvnJX9KXhZ0Y48dmWL7MfdhfSNLABOdOOl2uuP43JctfPDae\n",
       "bCwrfql3dQ0UG6wzPENO4QJxLzQ7vziqcRRQWjEW5DyakIspryDKh1YrhYsAjAeNfxm40GU8CuTN\n",
       "NkOa9C6u+k2MQUyqMOgjc0kVyo+DkG2ksKvxqh10OuQfTPqB6gyeC0ZmRSGPD18ZKEIxN9gcMuY6\n",
       "3HxTwQqRLTI91FLlaJfmrU10vv598zjnoo//q31UsaR1Anjq3ApsERRQtzOIoX+L57+azZWnzQCJ\n",
       "cLBe33MGyY2BCb0xySo9Mc/P+W4gElQQ8Csu/H9bNJdPnC5VKBuuYsmUc0u53HeuE/utXQOp8JiY\n",
       "CYTElsHwPzMvv5cgOPdEaRlJLiNWGQDOZufChvn+g4XoQ5w8/rmxHy6zkZFgAQvNz0c5YtHlc34d\n",
       "rYVcE+iyjCO1n5jKoWhH/5BW2an80eKwc+rusMHQPsYNZYe5+BJABINRAEazS7WYEVF1p9ORCyK3\n",
       "fPg8vLtGs2CouBe/Qogf0gBbZQy1O5ybyBDf9w1xm0uKnx9TEbVe1xedTo3JC4kwR4w9oC9mpQAA\n",
       "AqcBny10Q38AMFi5iD+HZLxNriykACHypz7gTa4h5laZjBy2wpPc2YRXwnP55BgB6n5ZG9R2v4kX\n",
       "j9YdGfLOG0nmcsAx3HNDKmb7MqQhU4RH1WFkKoRc8CyO3ft4Scjmu0ZQBxqiI0nfPYfDungu9XYc\n",
       "JZFvKcpAGcIlEi+Dn7YtnEZrpH8nOkm+5ACi1ZawRWHFsA3dVyQfN1xtMMzDCyXkzieYpPlJPcLn\n",
       "VEH1+w/7n3tdo/VfIyycPRGZPQTVpgZyojwT+NeL+ESQOWbvTyvYgXsZMGSCxg1T+kyZ9Cbzk1Xf\n",
       "fT9yolq5ts15oL86GuR4WHOnOHeVE7LvBcfzfe92e/qDpcE1WJ4LcrKf5t4vK9MtUt8lvjDo/6Ko\n",
       "zDV2yoJ+5+RRfPQeAa06gV1lL8nwkEX8gNfmpMOl0R045CMo9YcYXpCv/x6db0914PrLsZ6FxcFa\n",
       "6zRQ9hW9jEZ+6A29B9ERARRXf+8K74+FbSYkFcR9jemVVV6viRhhg2o/L089ikMN1NmzjKct1euv\n",
       "/MjcKBjQa9kAIY/1p1T+8z7mda7JQcfeDoIcNgj6ryRlVq5ZwPfDJYT6a5gxI+Zq4enmNANQD8iu\n",
       "zhF6pepVmaUo3IsDlNQIO8Ew5y0TZM93lqBZ4q1m/2SRdXD/1A5urbpgDwnMj79ZvHCDpFkJv3vT\n",
       "R7HlFDgnRpXlZIpILu+Bgze3G6+jc0wYdQ8F1NxttYy3TV9vCleOf4wvCjwJO/PkJiD+Fh/KvlWu\n",
       "/2TsT6y0HOvGdnpFnEuWYL5s8WiSYisOfCqlz2hNzyKNN5CNLQsghzB5uKd934QbXCfdOhWIjT6F\n",
       "lz7RUJGxFqasD7o7axudJZqvQwg+GGBTWs9Q8omxjn/HGOMwnqVmrpIze7TRx3v3Necg22z5AAAC\n",
       "mgGfL2pDfwAw/uYegAQ/Ws1+14nBW5vyXZXGRsi7+waCSLOzgu6x1f7UAlGLCYy0KdgSY0EcdcLp\n",
       "amiEyWN8iaef10qIli20HfUmUCGekd9dX6J30pT/4VtnYOzNJF0nxoEInYBtJpakQ85YMyRgSOpw\n",
       "s5y7RbXRjyGsawo3+Hl4ESNm24GSEIRO4BPxqsiPijLakfCxlboOluerqubf5vh9RgNv3mYOoJxD\n",
       "383F8vxe9osv/8/qyJ5C6QtKSt2aG2Z3e9ncG9CHeqvwSGwybDcntMbjyNZHva4OQU9JTmKnCxfA\n",
       "nYAAHRJnrOmBqcEyM54OR48DvVi2Vu+cJmHoOXZmLkkb+YR5WrLQJvEfQYOHoe5hoBWubOOQ4DKu\n",
       "yMVTlusCELaWOkmZTR+Zklvdi3CBUU5dlw6E05t3eor+sUhtlsjYL3zSfCfQYnHsK9IN7OftduXr\n",
       "doYOXXpwS7jP1tv3KUg8g1vBacRXd9+ygnXzF/5c5ji7wBWimu2QB0InY7c+YRRiV2xL+PYGwThL\n",
       "3VV3iON3OnAx42deK0qFe0k7SHZDz7j2fEzYBVQxmAMVR1ajwcz3LxhM8b5onglfZ9120DsBjrRK\n",
       "4Q2yLXHA798vZ+IrHRUfAuUpuwHgz5OYmuGjMqdVskYoI/L8MKpvjo4D8jMVVWBuT21L83AupMnN\n",
       "FcYMi/bDV8Q8ycksYATkmVx1JBlo6wWMdXW7sMl0N2ZRGQtVTxYgtFdfhAKh1F8tbMZFc1joH5RQ\n",
       "YeEdP+CzxEy/G/3/7noBP+QHo/f2DI4B2faz5UgrQ88ZgBSOypHCBQVbTW9YTmBVUbTr+NyrXb/p\n",
       "ICVttwRIXA0bo+OfNPRpB7zQNcqNv0W7umkpNso7lydoyfiBlCu2YAAAAwFBmzRJqEFsmUwIIf/+\n",
       "qlUAEh5c5GSzlR0+AFvXnJIwcIFteoeoslrPNoEFM7I0UJdKngkxqY+KmM0FkvX1aQUBog3sBpaz\n",
       "dJbEUKsPsUFD8KIHAIh3UL0szgiUYXXV+96l78cEh5RzwXYNW48ynkcui7MMwzWufQDHIvOG5TA/\n",
       "vqM7AFSUrK/ero8UotdErRzhyB+iz5w6Jbuys3qIpq0cmD9jZcsBKR1uedVpdqeS2u87k0PtwKRz\n",
       "PtJ139TIvEaV3CQAH+e1u5QQSMCMBT7DgydOz5hLxZzESLo4lagtvGGw7+HDZco1gWyGJRJ3Cfd2\n",
       "4bmWY+rA+ZezGhliI/erVHsswgJluGO2Vm/jywjt3w5ONqWmUI9GNKf9dWBSsx6Qk4PruTlBOSVn\n",
       "N5r2jyIcIJ1qGehqC7Gunp2BreaYnfQfx3nCt0cexhsCQHfXg/EWCdVywNxhRdmlvBpvcmSkIrlc\n",
       "V9ldQSjXpQcEuHIGIbPjk9/DZ32Ro1TJgRw8ZBcwlz4ZO7b0zHrAXsSbkFu4J5tgJJ/Yk2lEEOYI\n",
       "Fq3408/WC3C5uUJ1LpMCc+TarrN3CCUsYA2IF9Ts2YP/X88jL+dFF45/GGX9oMQfK8HFTl3tSsSF\n",
       "9lKYQzWHzyzT+HsPeVDKdtBc0PLWMaTmPKv8XIQqpLOgNd5w5+Cwuti5emg/ePPEzyAsHxHhBitB\n",
       "A2hhKebPdKZSHx1usM/dvaz/SqK05d/nMAJ+EN3dJH8Cw0vfARjTYjjSjl4tBSxX9HFK5g8a0RON\n",
       "sgHjPchRtHlK8QZfd5BT5MRy8L4lBJXPXaj+9qpALGg5Oqdll2KeaD7Vgf746jNUQetbE3lq9Qaa\n",
       "6Xs4wGT+z/uISNefBocv+tfxBDXfoc9aMieB6oGVBr7fnhH+bc+KQTLT87jfKxiNCIC1NIulItJL\n",
       "DmidgSFOzJAOzEMW4dMbps7JRK2fi5FvNw0GU6pfBCxwKsXwjnX8k84k8Q/KbM2Ibi0WhAalKNPX\n",
       "Oqqvlgs9mgYyzLfol6IWAAACr0GfUkUVLDv/ACMR+W3HgIs0ADmGMtt/qinIw8KHratdwseNGcqV\n",
       "86NrnTQYVgD7lrwBo2bejJ2YbJilNTbKKKY5SSa8U9K1q6SDY01CCV6z3Of9p0f75X5fWi//cn0v\n",
       "4FAK1L7dcyDJHzWsri47dYD2Fe5T4XYMPtXJJVPxwZ1EnKjZZ6rnaU9uqQFHhMEIHvjuJOLU0hw+\n",
       "ZT7ZF918orskPFT8pVMrHc77iOMEtWBkXg0GWgtwL8JfjN2XR8ZI5MHBclUBnqU9NNjURQc99qy0\n",
       "rN9TVsBQs7v+ilMRNbtX4nWBBB/mzNx+O1qZohCErcD20jwjeqMH2p9FLgiQIe2rpuj4g5FN2Azl\n",
       "BctxL8mWJ6Ye74jwexMXaFsvunZHmhqV39CwPB5WDbmzZs1euRkRw4jqz4aLWU8hKjdoDebXsGbf\n",
       "wqsPxCO6u6Bj7VZ5RJw6GaGSMNqCidWCtAYJZQGShqAoWho1/tFxddY9MD7as5jMAh9nt3kB/2H4\n",
       "Ra0YPJT5O8MuArHKGEMHLQrgJkG9VdK7XlWR1+WT8698AA9L5mruh1AtE6ctEQ7Mvul0AUpIq2Rf\n",
       "M2ISyZMCwHtVqiAYGTFmrhFvAStVDipNZ0TuVvFIkmQ1o5fL7OrErX2SPNt6OQCWxqtkjMdo5yHS\n",
       "++u3ujnq6IqWUul8V07jJ/XDLrsI4nVrT5/0jZXug2DjZ+Ix/8++D6EKCo+Zlf2kkEw+dMwgzmnT\n",
       "PnDaV2lwWpGWKIxTQCu4THhBGBtUK+buJoqO1wuOaYlF71KbA76B+q0W8kDkiJYf7/sjk0Iy8ex6\n",
       "MdGqgDdwiSZwvuHEUh72t2wAGjrJ3bu3mJe6Knm81qdM3jHlUJcyILS69nDixLS9rNzrm4+17HlW\n",
       "1Gmm2kD5gJVoXtdeXrc4FnWFFFgjoQAAApABn3F0Q38AMIdQFO7mNw2IAQnWXCpwmP+BWD2I/CDF\n",
       "HULZc/ZZCp4CfsEnRUFXZ12wSkYvhH+vK99yYs/Z6+xOUHuAbE6zol0FBefi8JNQRX/xY2WQ2SdE\n",
       "oX//+er3Zdj/7f7SeJ+DTOaltyRnoM+3sE5+wmE7fAaXCIEr2TMvOONsObOFXbmcopo4/TONo9i5\n",
       "F8XX+538tfmFZcXRv7gkgZY1OZQ2tMpZy2081HpJHksz5izggWihsywrAPencjIU+KQmFLnx0f7w\n",
       "C3HDG3TqPVdLsXa5IUfLRbB36bMhiG+BP4giQ6iANflQl6gaWjPhxcurZsiGWBTGePZlMa5TEXD+\n",
       "xBNfWPq/MdKbSKOi0tvjRt4iNzfv3kI8mrSrc7umzaOnqXGCmgWqDvwZZ3qGPFeTl1CUZwNrZRyr\n",
       "ZedStrYXUw8yYkOH/QIcP8xnQBbPNljooDdXrscGqZfCb24JiNcSJfYsaEFWuBHSUEAwq0ZT9QLE\n",
       "VtclMMQZCS3kY+vYIYm5yQnEKv7D3b9zpW0Q8WoiW/UxlQ0GwN4yG9p9QeDflswx2Zj+/ah+K28a\n",
       "PZ7pqs2DsffTAcSzWvxGHnBKU2hinle5lxvdU1FbXmaKMlmie9Xt9thi0L6h130sFP5pLUktGHXo\n",
       "LkCYMlT02L7x7Ac1oRqztN0gwIKJ5acFSS2I+70Igck8ltXwEj8YXXm+EOFPEQToF/ojjNIHg+iA\n",
       "XKZvJGMl0+IO3bRoBrSpnRuUweeh5UrYuiD7DFnr/+hs73e0GKvvR0q1t0mj3gaXeNOaLS8AmWTz\n",
       "Z6ZLpCdJtPplq1uryQlfglMOZeKo1olD6KfpnytYgP7NHVs1qicG3m58sJlYa+aJgf9dpLYKKAAA\n",
       "Ap8Bn3NqQ38AMkpfH9gMIMg0Gt1ABmzLQGs3eU8g3ZN6ggeRxQLjK0vnwnEd/6q84h4R005pF0wr\n",
       "hd7soq3bo0x3QtVMLMvGwg7e55lL8iuQvM/0MSYmCnlG88O0kF6Ajl6rrDl9Ribp7+zjxGQtC5jx\n",
       "6m7K3v+PDlinltWXDs183vwoarAopIvXoTrTop/G+sXvlkm2kPM+ajHBUs9Mzc7mS0bfuaKKySm8\n",
       "x+fiPYZ6txz4WrGpSxNeYasd7BwM9tpLmRO9/+z49LcRo7r3+OwCJpEjjUUKyjrnrnmjYuVLHHzd\n",
       "qrfwylgApfvLl8afmj+Ug8bMKlS9tXzdmI2LFcxCe2xr6u9MUuwWV+Z0pm7TKHFpxB7s0MWoqLCC\n",
       "EqHZSHpA2os7cdUph314bZeeOHmi6wmw/r2/vdm1QtQgbjzCbVV/PzMo2uby+l1czSXP5MqeaLFT\n",
       "WevyzvImZot3Deljhc7WRX/0+lg36V2v3GNoJItXAcO8rT1pjAl2SIBt+vLTFAYDjBOi8NUFNpIU\n",
       "XLfx4b1GY5fL8zLP/wo+Styok+HzEZ2H5jLSantt4RGPuN7W8PJnmejF8LQw+8JfsYX/hvo0NBXq\n",
       "VQp7Y0qm4o4DyK2vzLoGvcBWupVy3DOZfaeFEyNzvA3frF067UPNhqS9zwg2LgMvSXbRp48BKFav\n",
       "nT6YqUJEI7M6+KehalbW2XRh4zI/BIFvWU2PQsiiPzasJps8qvxDDJkadAeibri+eqXVMXWid+8v\n",
       "elN+DpI9LImrWeA2RcDkcgFc3v7zNfnSXDMd/zO04XcE/2bbGPV3bsn2PtbpzKuJMO0wBbwgyOt2\n",
       "2vVzEjH2/zmNiX0p49Dsv4Oy/uLj10VG5l2QzgRTd2RaKGKK9lpk47UFrTZCbgAAAmpBm3hJqEFs\n",
       "mUwIb//+p4QAhqv1oSkACIPZr62oZHZ3049N4c9X9lV8PvuGLL4PqRKxtdj4aeZ5VipemC/3X+hF\n",
       "VAVsg013rDkaZEF6bVgziiq/ymqTd1XVqLOI3i14CmVNRHacHVKbx/g7eRIPiLCAs9e7+uUIvh6S\n",
       "ZjcCkUdQ4oSHAsOzjLlnEnzETE2HydFC9lztKe4ivnr/hKofwthEwXP989QizQf0hE05SFIYgNTu\n",
       "qs5YC5z7numfYlcRviq0if0uxaTpYcTY53k31AFZkwgkRhfTJYQKe8C8zu5oNmx9j/GVQFyCllq9\n",
       "c2etFVC8M54I+mAsTZ6wQ1+IPDJoPxBqHKCuMmVgQdZCPc0lKTouPT+v9bzLMPfRYbYAT4/zWO3H\n",
       "XCUa++DKPw7FAcNgeMVbCd4H1mEPTqKvbwCrxA4t0dCAM3biCXPL9xDAi3xdkbCtL4VqfXSXDrI2\n",
       "vBMsElulkqZU5xThQmTrBc1/S7/NxxciauE6Ww239KsC6tJSOIh8CsDSytmEFU1uNJAvEyDTN3Ci\n",
       "OFb/iAvtyWtTph1/Da7W4s6yzIovMtepAh4sdLdhQgi8Kcx7qKQhu//Rnif6bYO/3rXSWB5jBsOS\n",
       "hFXnEKmKnmNTP0qAfoKRGbv3rxQ9ux1oiUUbKOwdja8N6UktF9NFX6197fMfNLlBiaDF/8UyzHTN\n",
       "zFkdc93LdmPyJnDpygYX3YjbPxmeVd/wNKQwfEeQ/3cKhZG0J1+lsM3dnLwt+UfnrZMnSAYmfFqh\n",
       "qEqJABjHsyy2AnCdXS2WPW9CwtmVcP4ZbT7sPC83C/1SR/GxqhMyg4EAAALVQZ+WRRUsO/8AIZJm\n",
       "ya3yfpNHE24AIfqztyQ8siP7BDZJW670n1CLlL2S7tFM46NJBmsazJIaapLeJOQHOMI5RT8yRoiX\n",
       "sFsN5clNX1ET46iRow9MCyHs+/NVRFFBcMzMk39GqrdzpiEb9HV2kWX0xGqDB6rDFI+zBdnn8tHE\n",
       "9tn0pUniNsBUcbJhh71Pq9AfnxahlUP/jQR72dq3ebwCyrgE3x4Ct10pwpcrs3TzXKqBDRwOJ3A6\n",
       "1mloDOQGP6pv5JjWN4Diy1hrh4uhagY7h7AxnNjq6hRraWwNonCfRVmxLoRDrVUClPKmzlp3icTs\n",
       "d4BxdgPn+cq1ssJ7qQnGnaxkj9jxm/mcB5mSRsF6uNJh2mJA47YlthP1aM9Gn8jRb1e3j+GYy4I/\n",
       "M/gjIOdqqKjsthCuQ6QmE90YJpn2MhZu5SoB76LhTt8RpIxdJ0aMBBmmHUQxjDNrObRXLRky9ffV\n",
       "/A10ZSD1JIJuh9CzmRKv7wWBUBgYC+RlTpFGSMv2y87eBvBUUI7tyOeG41rJjF8uATYqCvoBWbbP\n",
       "Ge3ch+a0ewPaay/FxqPuIwCtx1somO77ejPpi2sIKylLiPfhC7Qx5I5bzAzmW2r7Q86Ku2r3xAwP\n",
       "M230JDUz99Okgtw6bNnT1AaStGT1V5M7kug/gorFNsIr8Vu2VHOzS2d4jNphULdm9m1C6xhb/C06\n",
       "Shii+kyFcsq6S98icc47EH4RgcvLwtJoqw0FNEEy8ODt9okqYkmSrQXqGwauOPcSfJJVkjVLonWF\n",
       "jBP1Jarz9coEyu73b5DxJR4PwDhCjAbFLXAFTMCy2aeG/cIbbxbXlJSnHWblweRNL0oopPW0KE53\n",
       "/Z80qgAXVdVhupPzZGwFkmxNEepPjgt+boBBzA4kVflfdO53HAUXBhW2Q+TmOt5G5hdw+aCxi8yE\n",
       "dWzRFq877++XYLAGRh/mmYWEUtnQ2NLjPeMY7oAAAAKWAZ+1dEN/ADCHUz6tPHlqADaTgobeUamm\n",
       "J0jtMYfMwBUi46usue2RZ832vvs2WgO+vdKgrKFA2O8JOm9h1xs4hc0wPCJYa2ZNfWg0Nhvwa0aV\n",
       "GvB0dGQcDNGygUPYMnV3YaCe5CWT9zc04SCOOlIU97p1414Xl4mQlFpBdp9Q2trCrQKGGENF8eS1\n",
       "yu8GsVvozNkZSMuygQwaHbMYcjc6JW8b9zGIEheuI/hz8zxzk2Bl9fo/pre9Rli3ArqRlT/z/OpQ\n",
       "a0JlGsM6cu/R4R5z88pIf4SP8SRQidcbixyEBiJmcRtXzESOJflCQMLOCPePvMoVRNeLOhoqEJz5\n",
       "oTuhC0IQQY6xhKPJkdb/TDwHZlKDthEHrPYl17M5CoFTmZWUhwAyvSluGNhY4unzBm3xPy013lTq\n",
       "CUJ5zBfu6tLkcCXrs9fRxsTgPvfautPVSlJx2VhGYKhOgD0tvjZr7ZWyBAn0obFSMXVAv0iqtZCa\n",
       "JE5NRHMM4j4SBmfYSdsEER2Mb+ncOXPUDMmoeikMRQlePFVmXBA2qdwfohg0kJvW+EGLThRfDVVy\n",
       "vJgtMjEXTFMttZ8N9nZ7P2itjzW2yYhQkjCjqdaJYsr1rvqI08E91glhWopdS8qL+khVCP0JLKaS\n",
       "ksJTz402IutUIN1IhQ7fu4t6uL2OS/xxxIjVOErzqyzJ3PmbGN/Wy6P3D7zwS1LUX9RJdzGR03oX\n",
       "0S8e4WI9uXm5Smt2aEuZgEcWeQ/Ug/SG7WG3+fg88cUx4FfyU4WcFG7psOBDRhIMAco/p4OAqUfB\n",
       "+HbHBgxbt9Z8RMk/K3S5u271AQZmrrZR4C+AVZWYryeFau2bevQT7Rf73HIbGBCSVd7oM2maxdeq\n",
       "JtCr/dHMafzs96UAAAK2AZ+3akN/ADDrKpEvpgA2beqhHT2QiSkCJnmZnFQE+CV71MmnYoN3VZeK\n",
       "TXonsFVQDjfmCTP72ulGlhC3eytosme2X19gFhRYxvB6BFMY9W8sde9OOk/8X8A2NkKCeucAVgyg\n",
       "rOv/7mzzOtlcIBQHNemIandlnPLfufrCTNmTjXjDodBpgerRswE9R+QJlBTv+M+DZtApQtvBE6Ks\n",
       "nd0hN4z8Vxa7ykrh9ltpwFvm+cx6XpNa0qNczJ3FPrpFdO5wF2yw36XVXaxGIw2Dyq8TeLcSjAU/\n",
       "5B4wUthHkHyU7b4DFlcP0g3+d9m5KadXmSoDhNccskkVvF+y5BXaLwbBZSM7nskONZ4K7T/Hfink\n",
       "E2xOfNc6TaCQqM4c3yt+3r0YX/Df52R2rBRxSyUxy4m3IoZkZNcDtc3r/PKl0OWU+plZmnPR0YmP\n",
       "kP0O9KF74AJvvII+EiWUC4jXeW2JxMdOmtltJGaYodeq7T9wMNUN9f4D+rVYIrAmMp+4fcNh49nA\n",
       "gg7kaqUOZbKzuzFXu2Kha1cJ52kjcsjvYAqj/6gzWgDnRiDYxwXB7Cbuf5+KG+yjKwnBUw2orT/r\n",
       "jz5gb1B722O991lHJd0VjPMBw71HJ2LMMEn+/2e7AQXNcnBFTgLGVQm44sajQQAPHMA/5eIty4UF\n",
       "XhaCnyrH98y5PgZL77+H8vvkGWymR6G0vLj6OHmwJHV8sPfiofwRlE7P+NYWrffm8an+uoH6SXQI\n",
       "1CVmpltjNpLaCC4HIcxk/bPO3gKMTvVOWB/T1T5eYzDkr7mwBqduR20TD5v9dVKIlrlUwBMjq9kM\n",
       "0f0cs1wPUBroblT9adNrlhy3CWeXTKVO+rK9E0Rj0H65HXb2kybTft/CKGMOFB7jQebCEhSqNKx6\n",
       "Ai+xNp99vwrcW/GhEzg6PWyxl9MX6ZApIQAABFptb292AAAAbG12aGQAAAAAAAAAAAAAAAAAAAPo\n",
       "AAAJxAABAAABAAAAAAAAAAAAAAAAAQAAAAAAAAAAAAAAAAAAAAEAAAAAAAAAAAAAAAAAAEAAAAAA\n",
       "AAAAAAAAAAAAAAAAAAAAAAAAAAAAAAAAAAACAAADhHRyYWsAAABcdGtoZAAAAAMAAAAAAAAAAAAA\n",
       "AAEAAAAAAAAJxAAAAAAAAAAAAAAAAAAAAAAAAQAAAAAAAAAAAAAAAAAAAAEAAAAAAAAAAAAAAAAA\n",
       "AEAAAAACgAAAAeAAAAAAACRlZHRzAAAAHGVsc3QAAAAAAAAAAQAACcQAAAgAAAEAAAAAAvxtZGlh\n",
       "AAAAIG1kaGQAAAAAAAAAAAAAAAAAACgAAABkAFXEAAAAAAAtaGRscgAAAAAAAAAAdmlkZQAAAAAA\n",
       "AAAAAAAAAFZpZGVvSGFuZGxlcgAAAAKnbWluZgAAABR2bWhkAAAAAQAAAAAAAAAAAAAAJGRpbmYA\n",
       "AAAcZHJlZgAAAAAAAAABAAAADHVybCAAAAABAAACZ3N0YmwAAACzc3RzZAAAAAAAAAABAAAAo2F2\n",
       "YzEAAAAAAAAAAQAAAAAAAAAAAAAAAAAAAAACgAHgAEgAAABIAAAAAAAAAAEAAAAAAAAAAAAAAAAA\n",
       "AAAAAAAAAAAAAAAAAAAAAAAAAAAY//8AAAAxYXZjQwFkABb/4QAYZ2QAFqzZQKA9oQAAAwABAAAD\n",
       "ABQPFi2WAQAGaOvjyyLAAAAAHHV1aWRraEDyXyRPxbo5pRvPAyPzAAAAAAAAABhzdHRzAAAAAAAA\n",
       "AAEAAAAZAAAEAAAAABRzdHNzAAAAAAAAAAEAAAABAAAA2GN0dHMAAAAAAAAAGQAAAAEAAAgAAAAA\n",
       "AQAAFAAAAAABAAAIAAAAAAEAAAAAAAAAAQAABAAAAAABAAAUAAAAAAEAAAgAAAAAAQAAAAAAAAAB\n",
       "AAAEAAAAAAEAABQAAAAAAQAACAAAAAABAAAAAAAAAAEAAAQAAAAAAQAAFAAAAAABAAAIAAAAAAEA\n",
       "AAAAAAAAAQAABAAAAAABAAAUAAAAAAEAAAgAAAAAAQAAAAAAAAABAAAEAAAAAAEAABQAAAAAAQAA\n",
       "CAAAAAABAAAAAAAAAAEAAAQAAAAAHHN0c2MAAAAAAAAAAQAAAAEAAAAZAAAAAQAAAHhzdHN6AAAA\n",
       "AAAAAAAAAAAZAAAsuAAAAh8AAAD0AAAAsAAAARcAAAJcAAABzgAAAXYAAAIPAAADuwAAArsAAAKJ\n",
       "AAACowAAAq4AAAKfAAACqwAAAp4AAAMFAAACswAAApQAAAKjAAACbgAAAtkAAAKaAAACugAAABRz\n",
       "dGNvAAAAAAAAAAEAAAAsAAAAYnVkdGEAAABabWV0YQAAAAAAAAAhaGRscgAAAAAAAAAAbWRpcmFw\n",
       "cGwAAAAAAAAAAAAAAAAtaWxzdAAAACWpdG9vAAAAHWRhdGEAAAABAAAAAExhdmY1OC4yOS4xMDA=\n",
       "\">\n",
       "  Your browser does not support the video tag.\n",
       "</video>"
      ],
      "text/plain": [
       "<matplotlib.animation.FuncAnimation at 0x7f8091914400>"
      ]
     },
     "execution_count": 5,
     "metadata": {},
     "output_type": "execute_result"
    }
   ],
   "source": [
    "plotTrajectoriesFile('DelayParticle_time.zarr', mode='movie2d_notebook')"
   ]
  },
  {
   "attachments": {},
   "cell_type": "markdown",
   "metadata": {},
   "source": [
    "## Repeated releases of particlesets\n"
   ]
  },
  {
   "attachments": {},
   "cell_type": "markdown",
   "metadata": {},
   "source": [
    "Some experiments require large sets of particles to be released repeatedly on the same locations. Until Parcels v2.4.2, the `ParticleSet` object had the option `repeatdt` for this, but that could result in very poor performance in cases with many repeats of a small `ParticleSet` (see e.g. [this Discussion](https://github.com/OceanParcels/parcels/discussions/1316)).\n",
    "\n",
    "It is generally advised to define all the particles at the start; particles can have a later starttime by setting their `time`."
   ]
  },
  {
   "attachments": {},
   "cell_type": "markdown",
   "metadata": {},
   "source": [
    "If you have a set of starting longitudes and latitudes, and you want to repeatedly release particles every day, the code snippet below might help you "
   ]
  },
  {
   "cell_type": "code",
   "execution_count": 6,
   "metadata": {},
   "outputs": [],
   "source": [
    "lons, lats = np.meshgrid(np.arange(0, 2, 1), np.arange(0, 6, 2)) # define a small (3x2) initial particleset\n",
    "\n",
    "times = np.arange(0, 86400*5, 86400)  # release the particleset every day (=86400s) for 5 days\n",
    "\n",
    "# Reshape the lons, lats and times so that they all have the same (3x2x5) shape\n",
    "lons_full = np.tile(np.reshape(lons, (lons.shape[0], lons.shape[1], 1)), (1, 1, len(times)))\n",
    "lats_full = np.tile(np.reshape(lats, (lats.shape[0], lats.shape[1], 1)), (1, 1, len(times)))\n",
    "times_full = np.tile(times, (lons.shape[0], lons.shape[1], 1))\n",
    "\n",
    "# define the ParticleSet\n",
    "pset = ParticleSet(fieldset, JITParticle, lon=lons_full, lat=lats_full, time=times_full)\n",
    "\n",
    "# check if the number of particles is as expected\n",
    "assert len(pset) == lons.size * times.size"
   ]
  },
  {
   "attachments": {},
   "cell_type": "markdown",
   "metadata": {},
   "source": [
    "## Synced `time` in the output file\n",
    "\n",
    "Note that, because the `outputdt` variable controls the JIT-loop, all particles are written _at the same time_, even when they start at a non-multiple of `outputdt`.\n",
    "\n",
    "For example, if your particles start at `time=[0, 1, 2]` and `outputdt=2`, then the times written (for `dt=1` and `endtime=4`) will be\n"
   ]
  },
  {
   "cell_type": "code",
   "execution_count": 7,
   "metadata": {},
   "outputs": [
    {
     "name": "stdout",
     "output_type": "stream",
     "text": [
      "[[    0     2     4]\n",
      " [    2     4 'NaT']\n",
      " [    2     4 'NaT']]\n"
     ]
    }
   ],
   "source": [
    "outtime_expected = np.array([[0, 2, 4], [2, 4, np.datetime64(\"NaT\")], [2, 4, np.datetime64(\"NaT\")]], dtype=\"timedelta64[s]\")\n",
    "print(outtime_expected)"
   ]
  },
  {
   "cell_type": "code",
   "execution_count": 8,
   "metadata": {},
   "outputs": [
    {
     "name": "stderr",
     "output_type": "stream",
     "text": [
      "INFO: Compiled ArrayJITParticleAdvectionRK4 ==> /var/folders/1n/500ln6w97859_nqq86vwpl000000gr/T/parcels-504/lib796af11f6fab28fb5bc8d2beb1f4a86f_0.so\n"
     ]
    }
   ],
   "source": [
    "outfilepath = \"DelayParticle_nonmatchingtime.zarr\"\n",
    "\n",
    "pset = ParticleSet(fieldset=fieldset, pclass=JITParticle,\n",
    "                   lat=[3e3]*3, lon=[3e3]*3, time=[0, 1, 2])\n",
    "pset.execute(AdvectionRK4, endtime=4, dt=1, output_file=pset.ParticleFile(name=outfilepath, outputdt=2))"
   ]
  },
  {
   "attachments": {},
   "cell_type": "markdown",
   "metadata": {},
   "source": [
    "And indeed, the `time` values in the NetCDF output file are as expected\n"
   ]
  },
  {
   "cell_type": "code",
   "execution_count": 9,
   "metadata": {},
   "outputs": [
    {
     "name": "stdout",
     "output_type": "stream",
     "text": [
      "[[    0     2     4]\n",
      " [    2     4 'NaT']\n",
      " [    2     4 'NaT']]\n"
     ]
    }
   ],
   "source": [
    "outtime_infile = xr.open_zarr(outfilepath).time.values[:]\n",
    "print(outtime_infile.astype('timedelta64[s]'))\n",
    "\n",
    "assert (outtime_expected[np.isfinite(outtime_expected)] == outtime_infile[np.isfinite(outtime_infile)]).all()"
   ]
  },
  {
   "attachments": {},
   "cell_type": "markdown",
   "metadata": {},
   "source": [
    "Now, for some applications, this behavior may be undesirable; for example when particles need to be analyzed at a same age (instead of at a same time). In that case, we recommend either changing `outputdt` so that it is a common divisor of all start times; or doing multiple Parcels runs with subsets of the original `ParticleSet` (e.g., in the example above, one run with the Particles that start at `time=[0, 2]` and one with the Particle at `time=[1]`). In that case, you will get two files:\n"
   ]
  },
  {
   "cell_type": "code",
   "execution_count": 10,
   "metadata": {},
   "outputs": [
    {
     "name": "stderr",
     "output_type": "stream",
     "text": [
      "INFO: Compiled ArrayJITParticleAdvectionRK4 ==> /var/folders/1n/500ln6w97859_nqq86vwpl000000gr/T/parcels-504/lib16ef7470b9c696baded3f5681e970c6d_0.so\n"
     ]
    },
    {
     "name": "stdout",
     "output_type": "stream",
     "text": [
      "[[    0     2     4]\n",
      " [    2     4 'NaT']]\n"
     ]
    },
    {
     "name": "stderr",
     "output_type": "stream",
     "text": [
      "INFO: Compiled ArrayJITParticleAdvectionRK4 ==> /var/folders/1n/500ln6w97859_nqq86vwpl000000gr/T/parcels-504/libacdb14f787cf0827aa7f58fdc3ed0bc3_0.so\n"
     ]
    },
    {
     "name": "stdout",
     "output_type": "stream",
     "text": [
      "[[1 3 4]]\n"
     ]
    }
   ],
   "source": [
    "for times in [[0,2], [1]]:\n",
    "    pset = ParticleSet(fieldset=fieldset, pclass=JITParticle,\n",
    "                       lat=[3e3]*len(times), lon=[3e3]*len(times), time=times)\n",
    "    pset.execute(AdvectionRK4, endtime=4, dt=1, output_file=pset.ParticleFile(name=outfilepath, outputdt=2))\n",
    "    print(xr.open_zarr(outfilepath).time.values[:].astype('timedelta64[s]'))"
   ]
  },
  {
   "attachments": {},
   "cell_type": "markdown",
   "metadata": {},
   "source": [
    "## Adding new particles to a ParticleSet during runtime\n"
   ]
  },
  {
   "attachments": {},
   "cell_type": "markdown",
   "metadata": {},
   "source": [
    "In the examples above, all particles were defined at the start of the simulation. There are use-cases, though, where it is important to be able to add particles 'on-the-fly', during the runtime of a Parcels simulation.\n",
    "\n",
    "Unfortuantely, Parcels does not (yet) support adding new particles _within_ a `Kernel`. A workaround is to temporarily leave the `execution()` call to add particles via the `ParticleSet.add()` method, before continuing with `execution()`.\n",
    "\n",
    "See the example below, where we add 'mass' to a particle each timestep, based on a probablistic condition, and then split the particle once its 'mass' is larger than 5\n"
   ]
  },
  {
   "cell_type": "code",
   "execution_count": 11,
   "metadata": {},
   "outputs": [
    {
     "name": "stderr",
     "output_type": "stream",
     "text": [
      "INFO: Compiled ArrayGrowingParticleGrowParticles ==> /var/folders/1n/500ln6w97859_nqq86vwpl000000gr/T/parcels-504/lib00b19d6d3a4c0895d1867b38c47eea3b_0.so\n"
     ]
    }
   ],
   "source": [
    "class GrowingParticle(JITParticle):\n",
    "    mass = Variable('mass', initial=0)\n",
    "    splittime = Variable('splittime', initial=-1)\n",
    "    splitmass = Variable('splitmass', initial=0)\n",
    "\n",
    "def GrowParticles(particle, fieldset, time):\n",
    "    if ParcelsRandom.random() < 0.25: # 25% chance per timestep for particle to grow\n",
    "        particle.mass += 1.\n",
    "    if (particle.mass >= 5.) and (particle.splittime < 0):\n",
    "        particle.splittime = time\n",
    "        particle.splitmass = particle.mass / 2.\n",
    "        particle.mass = particle.mass / 2.\n",
    "\n",
    "pset = ParticleSet(fieldset=fieldset, pclass=GrowingParticle, lon=0, lat=0)\n",
    "outfile = ParticleFile('growingparticles.zarr', pset, outputdt=1)\n",
    "\n",
    "for t in range(40):\n",
    "    pset.execute(GrowParticles, runtime=1, dt=1, output_file=outfile)\n",
    "    for p in pset:\n",
    "        if p.splittime > 0:\n",
    "            pset.add(ParticleSet(fieldset=fieldset, pclass=GrowingParticle, lon=0, lat=0, \n",
    "                                 time=p.splittime, mass=p.splitmass))\n",
    "            p.splittime = -1  # reset splittime"
   ]
  },
  {
   "attachments": {},
   "cell_type": "markdown",
   "metadata": {},
   "source": [
    "The 'trick' is that we place the `pset.execute()` call in a for-loop, so that we leave the JIT-mode and can add Particles to the ParticleSet.\n",
    "\n",
    "Indeed, if we plot the mass of particles as a function of time, we see that new particles are created every time a particle reaches a mass of 5.\n"
   ]
  },
  {
   "cell_type": "code",
   "execution_count": 12,
   "metadata": {},
   "outputs": [
    {
     "data": {
      "image/png": "[encoded data removed]",
      "text/plain": [
       "<Figure size 640x480 with 1 Axes>"
      ]
     },
     "metadata": {},
     "output_type": "display_data"
    }
   ],
   "source": [
    "ds = xr.open_zarr('growingparticles.zarr')\n",
    "plt.plot(ds.time.values[:].astype('timedelta64[s]').T, ds.mass.T)\n",
    "plt.grid()\n",
    "plt.xlabel('Time')\n",
    "plt.ylabel(\"Particle 'mass'\")\n",
    "plt.show()\n",
    "ds.close()"
   ]
  }
 ],
 "metadata": {
  "kernelspec": {
   "display_name": "Python 3 (ipykernel)",
   "language": "python",
   "name": "python3"
  },
  "language_info": {
   "codemirror_mode": {
    "name": "ipython",
    "version": 3
   },
   "file_extension": ".py",
   "mimetype": "text/x-python",
   "name": "python",
   "nbconvert_exporter": "python",
   "pygments_lexer": "ipython3",
   "version": "3.10.8"
  }
 },
 "nbformat": 4,
 "nbformat_minor": 1
}
